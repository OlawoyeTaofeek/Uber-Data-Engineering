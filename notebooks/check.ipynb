{
 "cells": [
  {
   "cell_type": "code",
   "execution_count": 10,
   "id": "6019bc07",
   "metadata": {},
   "outputs": [],
   "source": [
    "import pandas as pd\n",
    "import numpy as np\n",
    "import seaborn as sns"
   ]
  },
  {
   "cell_type": "code",
   "execution_count": null,
   "id": "bde801c5",
   "metadata": {},
   "outputs": [],
   "source": []
  },
  {
   "cell_type": "code",
   "execution_count": 11,
   "id": "1d6173d4",
   "metadata": {},
   "outputs": [
    {
     "data": {
      "application/vnd.microsoft.datawrangler.viewer.v0+json": {
       "columns": [
        {
         "name": "index",
         "rawType": "int64",
         "type": "integer"
        },
        {
         "name": "VendorID",
         "rawType": "int64",
         "type": "integer"
        },
        {
         "name": "tpep_pickup_datetime",
         "rawType": "object",
         "type": "string"
        },
        {
         "name": "tpep_dropoff_datetime",
         "rawType": "object",
         "type": "string"
        },
        {
         "name": "passenger_count",
         "rawType": "int64",
         "type": "integer"
        },
        {
         "name": "trip_distance",
         "rawType": "float64",
         "type": "float"
        },
        {
         "name": "pickup_longitude",
         "rawType": "float64",
         "type": "float"
        },
        {
         "name": "pickup_latitude",
         "rawType": "float64",
         "type": "float"
        },
        {
         "name": "RatecodeID",
         "rawType": "int64",
         "type": "integer"
        },
        {
         "name": "store_and_fwd_flag",
         "rawType": "object",
         "type": "string"
        },
        {
         "name": "dropoff_longitude",
         "rawType": "float64",
         "type": "float"
        },
        {
         "name": "dropoff_latitude",
         "rawType": "float64",
         "type": "float"
        },
        {
         "name": "payment_type",
         "rawType": "int64",
         "type": "integer"
        },
        {
         "name": "fare_amount",
         "rawType": "float64",
         "type": "float"
        },
        {
         "name": "extra",
         "rawType": "float64",
         "type": "float"
        },
        {
         "name": "mta_tax",
         "rawType": "float64",
         "type": "float"
        },
        {
         "name": "tip_amount",
         "rawType": "float64",
         "type": "float"
        },
        {
         "name": "tolls_amount",
         "rawType": "float64",
         "type": "float"
        },
        {
         "name": "improvement_surcharge",
         "rawType": "float64",
         "type": "float"
        },
        {
         "name": "total_amount",
         "rawType": "float64",
         "type": "float"
        }
       ],
       "ref": "517f99a7-f15e-46ce-97c8-d785a7873cb4",
       "rows": [
        [
         "0",
         "1",
         "2016-03-01 00:00:00",
         "2016-03-01 00:07:55",
         "1",
         "2.5",
         "-73.97674560546875",
         "40.765151977539055",
         "1",
         "N",
         "-74.00426483154298",
         "40.74612808227539",
         "1",
         "9.0",
         "0.5",
         "0.5",
         "2.05",
         "0.0",
         "0.3",
         "12.35"
        ],
        [
         "1",
         "1",
         "2016-03-01 00:00:00",
         "2016-03-01 00:11:06",
         "1",
         "2.9",
         "-73.98348236083984",
         "40.767925262451165",
         "1",
         "N",
         "-74.00594329833984",
         "40.7331657409668",
         "1",
         "11.0",
         "0.5",
         "0.5",
         "3.05",
         "0.0",
         "0.3",
         "15.35"
        ],
        [
         "2",
         "2",
         "2016-03-01 00:00:00",
         "2016-03-01 00:31:06",
         "2",
         "19.98",
         "-73.78202056884764",
         "40.64480972290039",
         "1",
         "N",
         "-73.97454071044923",
         "40.6757698059082",
         "1",
         "54.5",
         "0.5",
         "0.5",
         "8.0",
         "0.0",
         "0.3",
         "63.8"
        ],
        [
         "3",
         "2",
         "2016-03-01 00:00:00",
         "2016-03-01 00:00:00",
         "3",
         "10.78",
         "-73.86341857910156",
         "40.769813537597656",
         "1",
         "N",
         "-73.96965026855469",
         "40.757766723632805",
         "1",
         "31.5",
         "0.0",
         "0.5",
         "3.78",
         "5.54",
         "0.3",
         "41.62"
        ],
        [
         "4",
         "2",
         "2016-03-01 00:00:00",
         "2016-03-01 00:00:00",
         "5",
         "30.43",
         "-73.97174072265625",
         "40.79218292236328",
         "3",
         "N",
         "-74.17716979980467",
         "40.69505310058594",
         "1",
         "98.0",
         "0.0",
         "0.0",
         "0.0",
         "15.5",
         "0.3",
         "113.8"
        ],
        [
         "5",
         "2",
         "2016-03-01 00:00:00",
         "2016-03-01 00:00:00",
         "5",
         "5.92",
         "-74.01719665527344",
         "40.70538330078125",
         "1",
         "N",
         "-73.97807312011719",
         "40.75578689575195",
         "1",
         "23.5",
         "1.0",
         "0.5",
         "5.06",
         "0.0",
         "0.3",
         "30.36"
        ],
        [
         "6",
         "2",
         "2016-03-01 00:00:00",
         "2016-03-01 00:00:00",
         "6",
         "5.72",
         "-73.99458312988281",
         "40.72784805297852",
         "1",
         "N",
         "0.0",
         "0.0",
         "2",
         "23.0",
         "0.5",
         "0.5",
         "0.0",
         "0.0",
         "0.3",
         "24.3"
        ],
        [
         "7",
         "1",
         "2016-03-01 00:00:01",
         "2016-03-01 00:16:04",
         "1",
         "6.2",
         "-73.78877258300781",
         "40.64775848388672",
         "1",
         "N",
         "-73.82920837402342",
         "40.712345123291016",
         "3",
         "20.5",
         "0.5",
         "0.5",
         "0.0",
         "0.0",
         "0.3",
         "21.8"
        ],
        [
         "8",
         "1",
         "2016-03-01 00:00:01",
         "2016-03-01 00:05:00",
         "1",
         "0.7",
         "-73.95822143554686",
         "40.76464080810546",
         "1",
         "N",
         "-73.9678955078125",
         "40.76290130615234",
         "1",
         "5.5",
         "0.5",
         "0.5",
         "2.0",
         "0.0",
         "0.3",
         "8.8"
        ],
        [
         "9",
         "2",
         "2016-03-01 00:00:01",
         "2016-03-01 00:24:06",
         "3",
         "7.18",
         "-73.98577880859375",
         "40.74119186401367",
         "1",
         "N",
         "-73.94635009765625",
         "40.79787826538086",
         "1",
         "23.5",
         "0.5",
         "0.5",
         "3.2",
         "0.0",
         "0.3",
         "28.0"
        ]
       ],
       "shape": {
        "columns": 19,
        "rows": 10
       }
      },
      "text/html": [
       "<div>\n",
       "<style scoped>\n",
       "    .dataframe tbody tr th:only-of-type {\n",
       "        vertical-align: middle;\n",
       "    }\n",
       "\n",
       "    .dataframe tbody tr th {\n",
       "        vertical-align: top;\n",
       "    }\n",
       "\n",
       "    .dataframe thead th {\n",
       "        text-align: right;\n",
       "    }\n",
       "</style>\n",
       "<table border=\"1\" class=\"dataframe\">\n",
       "  <thead>\n",
       "    <tr style=\"text-align: right;\">\n",
       "      <th></th>\n",
       "      <th>VendorID</th>\n",
       "      <th>tpep_pickup_datetime</th>\n",
       "      <th>tpep_dropoff_datetime</th>\n",
       "      <th>passenger_count</th>\n",
       "      <th>trip_distance</th>\n",
       "      <th>pickup_longitude</th>\n",
       "      <th>pickup_latitude</th>\n",
       "      <th>RatecodeID</th>\n",
       "      <th>store_and_fwd_flag</th>\n",
       "      <th>dropoff_longitude</th>\n",
       "      <th>dropoff_latitude</th>\n",
       "      <th>payment_type</th>\n",
       "      <th>fare_amount</th>\n",
       "      <th>extra</th>\n",
       "      <th>mta_tax</th>\n",
       "      <th>tip_amount</th>\n",
       "      <th>tolls_amount</th>\n",
       "      <th>improvement_surcharge</th>\n",
       "      <th>total_amount</th>\n",
       "    </tr>\n",
       "  </thead>\n",
       "  <tbody>\n",
       "    <tr>\n",
       "      <th>0</th>\n",
       "      <td>1</td>\n",
       "      <td>2016-03-01 00:00:00</td>\n",
       "      <td>2016-03-01 00:07:55</td>\n",
       "      <td>1</td>\n",
       "      <td>2.50</td>\n",
       "      <td>-73.976746</td>\n",
       "      <td>40.765152</td>\n",
       "      <td>1</td>\n",
       "      <td>N</td>\n",
       "      <td>-74.004265</td>\n",
       "      <td>40.746128</td>\n",
       "      <td>1</td>\n",
       "      <td>9.0</td>\n",
       "      <td>0.5</td>\n",
       "      <td>0.5</td>\n",
       "      <td>2.05</td>\n",
       "      <td>0.00</td>\n",
       "      <td>0.3</td>\n",
       "      <td>12.35</td>\n",
       "    </tr>\n",
       "    <tr>\n",
       "      <th>1</th>\n",
       "      <td>1</td>\n",
       "      <td>2016-03-01 00:00:00</td>\n",
       "      <td>2016-03-01 00:11:06</td>\n",
       "      <td>1</td>\n",
       "      <td>2.90</td>\n",
       "      <td>-73.983482</td>\n",
       "      <td>40.767925</td>\n",
       "      <td>1</td>\n",
       "      <td>N</td>\n",
       "      <td>-74.005943</td>\n",
       "      <td>40.733166</td>\n",
       "      <td>1</td>\n",
       "      <td>11.0</td>\n",
       "      <td>0.5</td>\n",
       "      <td>0.5</td>\n",
       "      <td>3.05</td>\n",
       "      <td>0.00</td>\n",
       "      <td>0.3</td>\n",
       "      <td>15.35</td>\n",
       "    </tr>\n",
       "    <tr>\n",
       "      <th>2</th>\n",
       "      <td>2</td>\n",
       "      <td>2016-03-01 00:00:00</td>\n",
       "      <td>2016-03-01 00:31:06</td>\n",
       "      <td>2</td>\n",
       "      <td>19.98</td>\n",
       "      <td>-73.782021</td>\n",
       "      <td>40.644810</td>\n",
       "      <td>1</td>\n",
       "      <td>N</td>\n",
       "      <td>-73.974541</td>\n",
       "      <td>40.675770</td>\n",
       "      <td>1</td>\n",
       "      <td>54.5</td>\n",
       "      <td>0.5</td>\n",
       "      <td>0.5</td>\n",
       "      <td>8.00</td>\n",
       "      <td>0.00</td>\n",
       "      <td>0.3</td>\n",
       "      <td>63.80</td>\n",
       "    </tr>\n",
       "    <tr>\n",
       "      <th>3</th>\n",
       "      <td>2</td>\n",
       "      <td>2016-03-01 00:00:00</td>\n",
       "      <td>2016-03-01 00:00:00</td>\n",
       "      <td>3</td>\n",
       "      <td>10.78</td>\n",
       "      <td>-73.863419</td>\n",
       "      <td>40.769814</td>\n",
       "      <td>1</td>\n",
       "      <td>N</td>\n",
       "      <td>-73.969650</td>\n",
       "      <td>40.757767</td>\n",
       "      <td>1</td>\n",
       "      <td>31.5</td>\n",
       "      <td>0.0</td>\n",
       "      <td>0.5</td>\n",
       "      <td>3.78</td>\n",
       "      <td>5.54</td>\n",
       "      <td>0.3</td>\n",
       "      <td>41.62</td>\n",
       "    </tr>\n",
       "    <tr>\n",
       "      <th>4</th>\n",
       "      <td>2</td>\n",
       "      <td>2016-03-01 00:00:00</td>\n",
       "      <td>2016-03-01 00:00:00</td>\n",
       "      <td>5</td>\n",
       "      <td>30.43</td>\n",
       "      <td>-73.971741</td>\n",
       "      <td>40.792183</td>\n",
       "      <td>3</td>\n",
       "      <td>N</td>\n",
       "      <td>-74.177170</td>\n",
       "      <td>40.695053</td>\n",
       "      <td>1</td>\n",
       "      <td>98.0</td>\n",
       "      <td>0.0</td>\n",
       "      <td>0.0</td>\n",
       "      <td>0.00</td>\n",
       "      <td>15.50</td>\n",
       "      <td>0.3</td>\n",
       "      <td>113.80</td>\n",
       "    </tr>\n",
       "    <tr>\n",
       "      <th>5</th>\n",
       "      <td>2</td>\n",
       "      <td>2016-03-01 00:00:00</td>\n",
       "      <td>2016-03-01 00:00:00</td>\n",
       "      <td>5</td>\n",
       "      <td>5.92</td>\n",
       "      <td>-74.017197</td>\n",
       "      <td>40.705383</td>\n",
       "      <td>1</td>\n",
       "      <td>N</td>\n",
       "      <td>-73.978073</td>\n",
       "      <td>40.755787</td>\n",
       "      <td>1</td>\n",
       "      <td>23.5</td>\n",
       "      <td>1.0</td>\n",
       "      <td>0.5</td>\n",
       "      <td>5.06</td>\n",
       "      <td>0.00</td>\n",
       "      <td>0.3</td>\n",
       "      <td>30.36</td>\n",
       "    </tr>\n",
       "    <tr>\n",
       "      <th>6</th>\n",
       "      <td>2</td>\n",
       "      <td>2016-03-01 00:00:00</td>\n",
       "      <td>2016-03-01 00:00:00</td>\n",
       "      <td>6</td>\n",
       "      <td>5.72</td>\n",
       "      <td>-73.994583</td>\n",
       "      <td>40.727848</td>\n",
       "      <td>1</td>\n",
       "      <td>N</td>\n",
       "      <td>0.000000</td>\n",
       "      <td>0.000000</td>\n",
       "      <td>2</td>\n",
       "      <td>23.0</td>\n",
       "      <td>0.5</td>\n",
       "      <td>0.5</td>\n",
       "      <td>0.00</td>\n",
       "      <td>0.00</td>\n",
       "      <td>0.3</td>\n",
       "      <td>24.30</td>\n",
       "    </tr>\n",
       "    <tr>\n",
       "      <th>7</th>\n",
       "      <td>1</td>\n",
       "      <td>2016-03-01 00:00:01</td>\n",
       "      <td>2016-03-01 00:16:04</td>\n",
       "      <td>1</td>\n",
       "      <td>6.20</td>\n",
       "      <td>-73.788773</td>\n",
       "      <td>40.647758</td>\n",
       "      <td>1</td>\n",
       "      <td>N</td>\n",
       "      <td>-73.829208</td>\n",
       "      <td>40.712345</td>\n",
       "      <td>3</td>\n",
       "      <td>20.5</td>\n",
       "      <td>0.5</td>\n",
       "      <td>0.5</td>\n",
       "      <td>0.00</td>\n",
       "      <td>0.00</td>\n",
       "      <td>0.3</td>\n",
       "      <td>21.80</td>\n",
       "    </tr>\n",
       "    <tr>\n",
       "      <th>8</th>\n",
       "      <td>1</td>\n",
       "      <td>2016-03-01 00:00:01</td>\n",
       "      <td>2016-03-01 00:05:00</td>\n",
       "      <td>1</td>\n",
       "      <td>0.70</td>\n",
       "      <td>-73.958221</td>\n",
       "      <td>40.764641</td>\n",
       "      <td>1</td>\n",
       "      <td>N</td>\n",
       "      <td>-73.967896</td>\n",
       "      <td>40.762901</td>\n",
       "      <td>1</td>\n",
       "      <td>5.5</td>\n",
       "      <td>0.5</td>\n",
       "      <td>0.5</td>\n",
       "      <td>2.00</td>\n",
       "      <td>0.00</td>\n",
       "      <td>0.3</td>\n",
       "      <td>8.80</td>\n",
       "    </tr>\n",
       "    <tr>\n",
       "      <th>9</th>\n",
       "      <td>2</td>\n",
       "      <td>2016-03-01 00:00:01</td>\n",
       "      <td>2016-03-01 00:24:06</td>\n",
       "      <td>3</td>\n",
       "      <td>7.18</td>\n",
       "      <td>-73.985779</td>\n",
       "      <td>40.741192</td>\n",
       "      <td>1</td>\n",
       "      <td>N</td>\n",
       "      <td>-73.946350</td>\n",
       "      <td>40.797878</td>\n",
       "      <td>1</td>\n",
       "      <td>23.5</td>\n",
       "      <td>0.5</td>\n",
       "      <td>0.5</td>\n",
       "      <td>3.20</td>\n",
       "      <td>0.00</td>\n",
       "      <td>0.3</td>\n",
       "      <td>28.00</td>\n",
       "    </tr>\n",
       "  </tbody>\n",
       "</table>\n",
       "</div>"
      ],
      "text/plain": [
       "   VendorID tpep_pickup_datetime tpep_dropoff_datetime  passenger_count  \\\n",
       "0         1  2016-03-01 00:00:00   2016-03-01 00:07:55                1   \n",
       "1         1  2016-03-01 00:00:00   2016-03-01 00:11:06                1   \n",
       "2         2  2016-03-01 00:00:00   2016-03-01 00:31:06                2   \n",
       "3         2  2016-03-01 00:00:00   2016-03-01 00:00:00                3   \n",
       "4         2  2016-03-01 00:00:00   2016-03-01 00:00:00                5   \n",
       "5         2  2016-03-01 00:00:00   2016-03-01 00:00:00                5   \n",
       "6         2  2016-03-01 00:00:00   2016-03-01 00:00:00                6   \n",
       "7         1  2016-03-01 00:00:01   2016-03-01 00:16:04                1   \n",
       "8         1  2016-03-01 00:00:01   2016-03-01 00:05:00                1   \n",
       "9         2  2016-03-01 00:00:01   2016-03-01 00:24:06                3   \n",
       "\n",
       "   trip_distance  pickup_longitude  pickup_latitude  RatecodeID  \\\n",
       "0           2.50        -73.976746        40.765152           1   \n",
       "1           2.90        -73.983482        40.767925           1   \n",
       "2          19.98        -73.782021        40.644810           1   \n",
       "3          10.78        -73.863419        40.769814           1   \n",
       "4          30.43        -73.971741        40.792183           3   \n",
       "5           5.92        -74.017197        40.705383           1   \n",
       "6           5.72        -73.994583        40.727848           1   \n",
       "7           6.20        -73.788773        40.647758           1   \n",
       "8           0.70        -73.958221        40.764641           1   \n",
       "9           7.18        -73.985779        40.741192           1   \n",
       "\n",
       "  store_and_fwd_flag  dropoff_longitude  dropoff_latitude  payment_type  \\\n",
       "0                  N         -74.004265         40.746128             1   \n",
       "1                  N         -74.005943         40.733166             1   \n",
       "2                  N         -73.974541         40.675770             1   \n",
       "3                  N         -73.969650         40.757767             1   \n",
       "4                  N         -74.177170         40.695053             1   \n",
       "5                  N         -73.978073         40.755787             1   \n",
       "6                  N           0.000000          0.000000             2   \n",
       "7                  N         -73.829208         40.712345             3   \n",
       "8                  N         -73.967896         40.762901             1   \n",
       "9                  N         -73.946350         40.797878             1   \n",
       "\n",
       "   fare_amount  extra  mta_tax  tip_amount  tolls_amount  \\\n",
       "0          9.0    0.5      0.5        2.05          0.00   \n",
       "1         11.0    0.5      0.5        3.05          0.00   \n",
       "2         54.5    0.5      0.5        8.00          0.00   \n",
       "3         31.5    0.0      0.5        3.78          5.54   \n",
       "4         98.0    0.0      0.0        0.00         15.50   \n",
       "5         23.5    1.0      0.5        5.06          0.00   \n",
       "6         23.0    0.5      0.5        0.00          0.00   \n",
       "7         20.5    0.5      0.5        0.00          0.00   \n",
       "8          5.5    0.5      0.5        2.00          0.00   \n",
       "9         23.5    0.5      0.5        3.20          0.00   \n",
       "\n",
       "   improvement_surcharge  total_amount  \n",
       "0                    0.3         12.35  \n",
       "1                    0.3         15.35  \n",
       "2                    0.3         63.80  \n",
       "3                    0.3         41.62  \n",
       "4                    0.3        113.80  \n",
       "5                    0.3         30.36  \n",
       "6                    0.3         24.30  \n",
       "7                    0.3         21.80  \n",
       "8                    0.3          8.80  \n",
       "9                    0.3         28.00  "
      ]
     },
     "execution_count": 11,
     "metadata": {},
     "output_type": "execute_result"
    }
   ],
   "source": [
    "df = pd.read_csv(r\"C:\\Users\\user\\Documents\\UberDataEngineering\\data\\uber_data.csv\")\n",
    "df.head(10)"
   ]
  },
  {
   "cell_type": "code",
   "execution_count": 12,
   "id": "49c71269",
   "metadata": {},
   "outputs": [
    {
     "name": "stdout",
     "output_type": "stream",
     "text": [
      "[1 3 2 5 4 6]\n"
     ]
    }
   ],
   "source": [
    "print(df['RatecodeID'].unique())"
   ]
  },
  {
   "cell_type": "code",
   "execution_count": 13,
   "id": "0d16c36d",
   "metadata": {},
   "outputs": [
    {
     "name": "stdout",
     "output_type": "stream",
     "text": [
      "[1 2 3 4]\n"
     ]
    }
   ],
   "source": [
    "print(df['payment_type'].unique())"
   ]
  },
  {
   "cell_type": "code",
   "execution_count": 17,
   "id": "d5e9cd8a",
   "metadata": {},
   "outputs": [
    {
     "name": "stdout",
     "output_type": "stream",
     "text": [
      "[1 2]\n"
     ]
    }
   ],
   "source": [
    "print(df['VendorID'].unique())"
   ]
  },
  {
   "cell_type": "code",
   "execution_count": 14,
   "id": "deb24add",
   "metadata": {},
   "outputs": [
    {
     "name": "stdout",
     "output_type": "stream",
     "text": [
      "<class 'pandas.core.frame.DataFrame'>\n",
      "RangeIndex: 100000 entries, 0 to 99999\n",
      "Data columns (total 19 columns):\n",
      " #   Column                 Non-Null Count   Dtype  \n",
      "---  ------                 --------------   -----  \n",
      " 0   VendorID               100000 non-null  int64  \n",
      " 1   tpep_pickup_datetime   100000 non-null  object \n",
      " 2   tpep_dropoff_datetime  100000 non-null  object \n",
      " 3   passenger_count        100000 non-null  int64  \n",
      " 4   trip_distance          100000 non-null  float64\n",
      " 5   pickup_longitude       100000 non-null  float64\n",
      " 6   pickup_latitude        100000 non-null  float64\n",
      " 7   RatecodeID             100000 non-null  int64  \n",
      " 8   store_and_fwd_flag     100000 non-null  object \n",
      " 9   dropoff_longitude      100000 non-null  float64\n",
      " 10  dropoff_latitude       100000 non-null  float64\n",
      " 11  payment_type           100000 non-null  int64  \n",
      " 12  fare_amount            100000 non-null  float64\n",
      " 13  extra                  100000 non-null  float64\n",
      " 14  mta_tax                100000 non-null  float64\n",
      " 15  tip_amount             100000 non-null  float64\n",
      " 16  tolls_amount           100000 non-null  float64\n",
      " 17  improvement_surcharge  100000 non-null  float64\n",
      " 18  total_amount           100000 non-null  float64\n",
      "dtypes: float64(12), int64(4), object(3)\n",
      "memory usage: 14.5+ MB\n"
     ]
    }
   ],
   "source": [
    "df.info()"
   ]
  },
  {
   "cell_type": "code",
   "execution_count": 60,
   "id": "ed3220c6",
   "metadata": {},
   "outputs": [],
   "source": [
    "df['tpep_pickup_datetime'] = pd.to_datetime(df['tpep_pickup_datetime'])\n",
    "df['tpep_dropoff_datetime'] = pd.to_datetime(df['tpep_dropoff_datetime'])"
   ]
  },
  {
   "cell_type": "code",
   "execution_count": 61,
   "id": "fdd156bb",
   "metadata": {},
   "outputs": [
    {
     "name": "stdout",
     "output_type": "stream",
     "text": [
      "<class 'pandas.core.frame.DataFrame'>\n",
      "RangeIndex: 100000 entries, 0 to 99999\n",
      "Data columns (total 19 columns):\n",
      " #   Column                 Non-Null Count   Dtype         \n",
      "---  ------                 --------------   -----         \n",
      " 0   VendorID               100000 non-null  int64         \n",
      " 1   tpep_pickup_datetime   100000 non-null  datetime64[ns]\n",
      " 2   tpep_dropoff_datetime  100000 non-null  datetime64[ns]\n",
      " 3   passenger_count        100000 non-null  int64         \n",
      " 4   trip_distance          100000 non-null  float64       \n",
      " 5   pickup_longitude       100000 non-null  float64       \n",
      " 6   pickup_latitude        100000 non-null  float64       \n",
      " 7   RatecodeID             100000 non-null  int64         \n",
      " 8   store_and_fwd_flag     100000 non-null  object        \n",
      " 9   dropoff_longitude      100000 non-null  float64       \n",
      " 10  dropoff_latitude       100000 non-null  float64       \n",
      " 11  payment_type           100000 non-null  int64         \n",
      " 12  fare_amount            100000 non-null  float64       \n",
      " 13  extra                  100000 non-null  float64       \n",
      " 14  mta_tax                100000 non-null  float64       \n",
      " 15  tip_amount             100000 non-null  float64       \n",
      " 16  tolls_amount           100000 non-null  float64       \n",
      " 17  improvement_surcharge  100000 non-null  float64       \n",
      " 18  total_amount           100000 non-null  float64       \n",
      "dtypes: datetime64[ns](2), float64(12), int64(4), object(1)\n",
      "memory usage: 14.5+ MB\n"
     ]
    }
   ],
   "source": [
    "df.info()"
   ]
  },
  {
   "cell_type": "code",
   "execution_count": null,
   "id": "a74f03a1",
   "metadata": {},
   "outputs": [],
   "source": [
    "df = df.drop_duplicates().reset_index(drop=True)\n",
    "df['trip_id'] = df.index + 1"
   ]
  },
  {
   "cell_type": "code",
   "execution_count": 63,
   "id": "a459b8ce",
   "metadata": {},
   "outputs": [
    {
     "name": "stdout",
     "output_type": "stream",
     "text": [
      "(100000, 20)\n"
     ]
    }
   ],
   "source": [
    "print(df.shape)"
   ]
  },
  {
   "cell_type": "code",
   "execution_count": 64,
   "id": "387a8197",
   "metadata": {},
   "outputs": [
    {
     "data": {
      "application/vnd.microsoft.datawrangler.viewer.v0+json": {
       "columns": [
        {
         "name": "index",
         "rawType": "int64",
         "type": "integer"
        },
        {
         "name": "VendorID",
         "rawType": "int64",
         "type": "integer"
        },
        {
         "name": "tpep_pickup_datetime",
         "rawType": "datetime64[ns]",
         "type": "datetime"
        },
        {
         "name": "tpep_dropoff_datetime",
         "rawType": "datetime64[ns]",
         "type": "datetime"
        },
        {
         "name": "passenger_count",
         "rawType": "int64",
         "type": "integer"
        },
        {
         "name": "trip_distance",
         "rawType": "float64",
         "type": "float"
        },
        {
         "name": "pickup_longitude",
         "rawType": "float64",
         "type": "float"
        },
        {
         "name": "pickup_latitude",
         "rawType": "float64",
         "type": "float"
        },
        {
         "name": "RatecodeID",
         "rawType": "int64",
         "type": "integer"
        },
        {
         "name": "store_and_fwd_flag",
         "rawType": "object",
         "type": "string"
        },
        {
         "name": "dropoff_longitude",
         "rawType": "float64",
         "type": "float"
        },
        {
         "name": "dropoff_latitude",
         "rawType": "float64",
         "type": "float"
        },
        {
         "name": "payment_type",
         "rawType": "int64",
         "type": "integer"
        },
        {
         "name": "fare_amount",
         "rawType": "float64",
         "type": "float"
        },
        {
         "name": "extra",
         "rawType": "float64",
         "type": "float"
        },
        {
         "name": "mta_tax",
         "rawType": "float64",
         "type": "float"
        },
        {
         "name": "tip_amount",
         "rawType": "float64",
         "type": "float"
        },
        {
         "name": "tolls_amount",
         "rawType": "float64",
         "type": "float"
        },
        {
         "name": "improvement_surcharge",
         "rawType": "float64",
         "type": "float"
        },
        {
         "name": "total_amount",
         "rawType": "float64",
         "type": "float"
        },
        {
         "name": "trip_id",
         "rawType": "int64",
         "type": "integer"
        }
       ],
       "ref": "87b0762e-b338-4aa1-8ec8-37a5ff696d3b",
       "rows": [
        [
         "0",
         "1",
         "2016-03-01 00:00:00",
         "2016-03-01 00:07:55",
         "1",
         "2.5",
         "-73.97674560546875",
         "40.765151977539055",
         "1",
         "N",
         "-74.00426483154298",
         "40.74612808227539",
         "1",
         "9.0",
         "0.5",
         "0.5",
         "2.05",
         "0.0",
         "0.3",
         "12.35",
         "0"
        ],
        [
         "1",
         "1",
         "2016-03-01 00:00:00",
         "2016-03-01 00:11:06",
         "1",
         "2.9",
         "-73.98348236083984",
         "40.767925262451165",
         "1",
         "N",
         "-74.00594329833984",
         "40.7331657409668",
         "1",
         "11.0",
         "0.5",
         "0.5",
         "3.05",
         "0.0",
         "0.3",
         "15.35",
         "1"
        ],
        [
         "2",
         "2",
         "2016-03-01 00:00:00",
         "2016-03-01 00:31:06",
         "2",
         "19.98",
         "-73.78202056884764",
         "40.64480972290039",
         "1",
         "N",
         "-73.97454071044923",
         "40.6757698059082",
         "1",
         "54.5",
         "0.5",
         "0.5",
         "8.0",
         "0.0",
         "0.3",
         "63.8",
         "2"
        ],
        [
         "3",
         "2",
         "2016-03-01 00:00:00",
         "2016-03-01 00:00:00",
         "3",
         "10.78",
         "-73.86341857910156",
         "40.769813537597656",
         "1",
         "N",
         "-73.96965026855469",
         "40.757766723632805",
         "1",
         "31.5",
         "0.0",
         "0.5",
         "3.78",
         "5.54",
         "0.3",
         "41.62",
         "3"
        ],
        [
         "4",
         "2",
         "2016-03-01 00:00:00",
         "2016-03-01 00:00:00",
         "5",
         "30.43",
         "-73.97174072265625",
         "40.79218292236328",
         "3",
         "N",
         "-74.17716979980467",
         "40.69505310058594",
         "1",
         "98.0",
         "0.0",
         "0.0",
         "0.0",
         "15.5",
         "0.3",
         "113.8",
         "4"
        ]
       ],
       "shape": {
        "columns": 20,
        "rows": 5
       }
      },
      "text/html": [
       "<div>\n",
       "<style scoped>\n",
       "    .dataframe tbody tr th:only-of-type {\n",
       "        vertical-align: middle;\n",
       "    }\n",
       "\n",
       "    .dataframe tbody tr th {\n",
       "        vertical-align: top;\n",
       "    }\n",
       "\n",
       "    .dataframe thead th {\n",
       "        text-align: right;\n",
       "    }\n",
       "</style>\n",
       "<table border=\"1\" class=\"dataframe\">\n",
       "  <thead>\n",
       "    <tr style=\"text-align: right;\">\n",
       "      <th></th>\n",
       "      <th>VendorID</th>\n",
       "      <th>tpep_pickup_datetime</th>\n",
       "      <th>tpep_dropoff_datetime</th>\n",
       "      <th>passenger_count</th>\n",
       "      <th>trip_distance</th>\n",
       "      <th>pickup_longitude</th>\n",
       "      <th>pickup_latitude</th>\n",
       "      <th>RatecodeID</th>\n",
       "      <th>store_and_fwd_flag</th>\n",
       "      <th>dropoff_longitude</th>\n",
       "      <th>dropoff_latitude</th>\n",
       "      <th>payment_type</th>\n",
       "      <th>fare_amount</th>\n",
       "      <th>extra</th>\n",
       "      <th>mta_tax</th>\n",
       "      <th>tip_amount</th>\n",
       "      <th>tolls_amount</th>\n",
       "      <th>improvement_surcharge</th>\n",
       "      <th>total_amount</th>\n",
       "      <th>trip_id</th>\n",
       "    </tr>\n",
       "  </thead>\n",
       "  <tbody>\n",
       "    <tr>\n",
       "      <th>0</th>\n",
       "      <td>1</td>\n",
       "      <td>2016-03-01</td>\n",
       "      <td>2016-03-01 00:07:55</td>\n",
       "      <td>1</td>\n",
       "      <td>2.50</td>\n",
       "      <td>-73.976746</td>\n",
       "      <td>40.765152</td>\n",
       "      <td>1</td>\n",
       "      <td>N</td>\n",
       "      <td>-74.004265</td>\n",
       "      <td>40.746128</td>\n",
       "      <td>1</td>\n",
       "      <td>9.0</td>\n",
       "      <td>0.5</td>\n",
       "      <td>0.5</td>\n",
       "      <td>2.05</td>\n",
       "      <td>0.00</td>\n",
       "      <td>0.3</td>\n",
       "      <td>12.35</td>\n",
       "      <td>0</td>\n",
       "    </tr>\n",
       "    <tr>\n",
       "      <th>1</th>\n",
       "      <td>1</td>\n",
       "      <td>2016-03-01</td>\n",
       "      <td>2016-03-01 00:11:06</td>\n",
       "      <td>1</td>\n",
       "      <td>2.90</td>\n",
       "      <td>-73.983482</td>\n",
       "      <td>40.767925</td>\n",
       "      <td>1</td>\n",
       "      <td>N</td>\n",
       "      <td>-74.005943</td>\n",
       "      <td>40.733166</td>\n",
       "      <td>1</td>\n",
       "      <td>11.0</td>\n",
       "      <td>0.5</td>\n",
       "      <td>0.5</td>\n",
       "      <td>3.05</td>\n",
       "      <td>0.00</td>\n",
       "      <td>0.3</td>\n",
       "      <td>15.35</td>\n",
       "      <td>1</td>\n",
       "    </tr>\n",
       "    <tr>\n",
       "      <th>2</th>\n",
       "      <td>2</td>\n",
       "      <td>2016-03-01</td>\n",
       "      <td>2016-03-01 00:31:06</td>\n",
       "      <td>2</td>\n",
       "      <td>19.98</td>\n",
       "      <td>-73.782021</td>\n",
       "      <td>40.644810</td>\n",
       "      <td>1</td>\n",
       "      <td>N</td>\n",
       "      <td>-73.974541</td>\n",
       "      <td>40.675770</td>\n",
       "      <td>1</td>\n",
       "      <td>54.5</td>\n",
       "      <td>0.5</td>\n",
       "      <td>0.5</td>\n",
       "      <td>8.00</td>\n",
       "      <td>0.00</td>\n",
       "      <td>0.3</td>\n",
       "      <td>63.80</td>\n",
       "      <td>2</td>\n",
       "    </tr>\n",
       "    <tr>\n",
       "      <th>3</th>\n",
       "      <td>2</td>\n",
       "      <td>2016-03-01</td>\n",
       "      <td>2016-03-01 00:00:00</td>\n",
       "      <td>3</td>\n",
       "      <td>10.78</td>\n",
       "      <td>-73.863419</td>\n",
       "      <td>40.769814</td>\n",
       "      <td>1</td>\n",
       "      <td>N</td>\n",
       "      <td>-73.969650</td>\n",
       "      <td>40.757767</td>\n",
       "      <td>1</td>\n",
       "      <td>31.5</td>\n",
       "      <td>0.0</td>\n",
       "      <td>0.5</td>\n",
       "      <td>3.78</td>\n",
       "      <td>5.54</td>\n",
       "      <td>0.3</td>\n",
       "      <td>41.62</td>\n",
       "      <td>3</td>\n",
       "    </tr>\n",
       "    <tr>\n",
       "      <th>4</th>\n",
       "      <td>2</td>\n",
       "      <td>2016-03-01</td>\n",
       "      <td>2016-03-01 00:00:00</td>\n",
       "      <td>5</td>\n",
       "      <td>30.43</td>\n",
       "      <td>-73.971741</td>\n",
       "      <td>40.792183</td>\n",
       "      <td>3</td>\n",
       "      <td>N</td>\n",
       "      <td>-74.177170</td>\n",
       "      <td>40.695053</td>\n",
       "      <td>1</td>\n",
       "      <td>98.0</td>\n",
       "      <td>0.0</td>\n",
       "      <td>0.0</td>\n",
       "      <td>0.00</td>\n",
       "      <td>15.50</td>\n",
       "      <td>0.3</td>\n",
       "      <td>113.80</td>\n",
       "      <td>4</td>\n",
       "    </tr>\n",
       "  </tbody>\n",
       "</table>\n",
       "</div>"
      ],
      "text/plain": [
       "   VendorID tpep_pickup_datetime tpep_dropoff_datetime  passenger_count  \\\n",
       "0         1           2016-03-01   2016-03-01 00:07:55                1   \n",
       "1         1           2016-03-01   2016-03-01 00:11:06                1   \n",
       "2         2           2016-03-01   2016-03-01 00:31:06                2   \n",
       "3         2           2016-03-01   2016-03-01 00:00:00                3   \n",
       "4         2           2016-03-01   2016-03-01 00:00:00                5   \n",
       "\n",
       "   trip_distance  pickup_longitude  pickup_latitude  RatecodeID  \\\n",
       "0           2.50        -73.976746        40.765152           1   \n",
       "1           2.90        -73.983482        40.767925           1   \n",
       "2          19.98        -73.782021        40.644810           1   \n",
       "3          10.78        -73.863419        40.769814           1   \n",
       "4          30.43        -73.971741        40.792183           3   \n",
       "\n",
       "  store_and_fwd_flag  dropoff_longitude  dropoff_latitude  payment_type  \\\n",
       "0                  N         -74.004265         40.746128             1   \n",
       "1                  N         -74.005943         40.733166             1   \n",
       "2                  N         -73.974541         40.675770             1   \n",
       "3                  N         -73.969650         40.757767             1   \n",
       "4                  N         -74.177170         40.695053             1   \n",
       "\n",
       "   fare_amount  extra  mta_tax  tip_amount  tolls_amount  \\\n",
       "0          9.0    0.5      0.5        2.05          0.00   \n",
       "1         11.0    0.5      0.5        3.05          0.00   \n",
       "2         54.5    0.5      0.5        8.00          0.00   \n",
       "3         31.5    0.0      0.5        3.78          5.54   \n",
       "4         98.0    0.0      0.0        0.00         15.50   \n",
       "\n",
       "   improvement_surcharge  total_amount  trip_id  \n",
       "0                    0.3         12.35        0  \n",
       "1                    0.3         15.35        1  \n",
       "2                    0.3         63.80        2  \n",
       "3                    0.3         41.62        3  \n",
       "4                    0.3        113.80        4  "
      ]
     },
     "execution_count": 64,
     "metadata": {},
     "output_type": "execute_result"
    }
   ],
   "source": [
    "df.head()"
   ]
  },
  {
   "cell_type": "code",
   "execution_count": 65,
   "id": "ff0ae3aa",
   "metadata": {},
   "outputs": [
    {
     "name": "stdout",
     "output_type": "stream",
     "text": [
      "Index(['VendorID', 'tpep_pickup_datetime', 'tpep_dropoff_datetime',\n",
      "       'passenger_count', 'trip_distance', 'pickup_longitude',\n",
      "       'pickup_latitude', 'RatecodeID', 'store_and_fwd_flag',\n",
      "       'dropoff_longitude', 'dropoff_latitude', 'payment_type', 'fare_amount',\n",
      "       'extra', 'mta_tax', 'tip_amount', 'tolls_amount',\n",
      "       'improvement_surcharge', 'total_amount', 'trip_id'],\n",
      "      dtype='object')\n"
     ]
    }
   ],
   "source": [
    "print(df.columns)"
   ]
  },
  {
   "cell_type": "code",
   "execution_count": 66,
   "id": "16d237f2",
   "metadata": {},
   "outputs": [],
   "source": [
    "# Reorder columns to move 'trip_id' to the front\n",
    "cols = df.columns.tolist()\n",
    "cols.remove('trip_id')\n",
    "df = df[['trip_id'] + cols]"
   ]
  },
  {
   "cell_type": "code",
   "execution_count": 67,
   "id": "09f549d8",
   "metadata": {},
   "outputs": [
    {
     "data": {
      "application/vnd.microsoft.datawrangler.viewer.v0+json": {
       "columns": [
        {
         "name": "index",
         "rawType": "int64",
         "type": "integer"
        },
        {
         "name": "trip_id",
         "rawType": "int64",
         "type": "integer"
        },
        {
         "name": "VendorID",
         "rawType": "int64",
         "type": "integer"
        },
        {
         "name": "tpep_pickup_datetime",
         "rawType": "datetime64[ns]",
         "type": "datetime"
        },
        {
         "name": "tpep_dropoff_datetime",
         "rawType": "datetime64[ns]",
         "type": "datetime"
        },
        {
         "name": "passenger_count",
         "rawType": "int64",
         "type": "integer"
        },
        {
         "name": "trip_distance",
         "rawType": "float64",
         "type": "float"
        },
        {
         "name": "pickup_longitude",
         "rawType": "float64",
         "type": "float"
        },
        {
         "name": "pickup_latitude",
         "rawType": "float64",
         "type": "float"
        },
        {
         "name": "RatecodeID",
         "rawType": "int64",
         "type": "integer"
        },
        {
         "name": "store_and_fwd_flag",
         "rawType": "object",
         "type": "string"
        },
        {
         "name": "dropoff_longitude",
         "rawType": "float64",
         "type": "float"
        },
        {
         "name": "dropoff_latitude",
         "rawType": "float64",
         "type": "float"
        },
        {
         "name": "payment_type",
         "rawType": "int64",
         "type": "integer"
        },
        {
         "name": "fare_amount",
         "rawType": "float64",
         "type": "float"
        },
        {
         "name": "extra",
         "rawType": "float64",
         "type": "float"
        },
        {
         "name": "mta_tax",
         "rawType": "float64",
         "type": "float"
        },
        {
         "name": "tip_amount",
         "rawType": "float64",
         "type": "float"
        },
        {
         "name": "tolls_amount",
         "rawType": "float64",
         "type": "float"
        },
        {
         "name": "improvement_surcharge",
         "rawType": "float64",
         "type": "float"
        },
        {
         "name": "total_amount",
         "rawType": "float64",
         "type": "float"
        }
       ],
       "ref": "6de800fb-5ff6-4db8-804a-8c0ec1ae49c6",
       "rows": [
        [
         "0",
         "0",
         "1",
         "2016-03-01 00:00:00",
         "2016-03-01 00:07:55",
         "1",
         "2.5",
         "-73.97674560546875",
         "40.765151977539055",
         "1",
         "N",
         "-74.00426483154298",
         "40.74612808227539",
         "1",
         "9.0",
         "0.5",
         "0.5",
         "2.05",
         "0.0",
         "0.3",
         "12.35"
        ],
        [
         "1",
         "1",
         "1",
         "2016-03-01 00:00:00",
         "2016-03-01 00:11:06",
         "1",
         "2.9",
         "-73.98348236083984",
         "40.767925262451165",
         "1",
         "N",
         "-74.00594329833984",
         "40.7331657409668",
         "1",
         "11.0",
         "0.5",
         "0.5",
         "3.05",
         "0.0",
         "0.3",
         "15.35"
        ],
        [
         "2",
         "2",
         "2",
         "2016-03-01 00:00:00",
         "2016-03-01 00:31:06",
         "2",
         "19.98",
         "-73.78202056884764",
         "40.64480972290039",
         "1",
         "N",
         "-73.97454071044923",
         "40.6757698059082",
         "1",
         "54.5",
         "0.5",
         "0.5",
         "8.0",
         "0.0",
         "0.3",
         "63.8"
        ],
        [
         "3",
         "3",
         "2",
         "2016-03-01 00:00:00",
         "2016-03-01 00:00:00",
         "3",
         "10.78",
         "-73.86341857910156",
         "40.769813537597656",
         "1",
         "N",
         "-73.96965026855469",
         "40.757766723632805",
         "1",
         "31.5",
         "0.0",
         "0.5",
         "3.78",
         "5.54",
         "0.3",
         "41.62"
        ],
        [
         "4",
         "4",
         "2",
         "2016-03-01 00:00:00",
         "2016-03-01 00:00:00",
         "5",
         "30.43",
         "-73.97174072265625",
         "40.79218292236328",
         "3",
         "N",
         "-74.17716979980467",
         "40.69505310058594",
         "1",
         "98.0",
         "0.0",
         "0.0",
         "0.0",
         "15.5",
         "0.3",
         "113.8"
        ]
       ],
       "shape": {
        "columns": 20,
        "rows": 5
       }
      },
      "text/html": [
       "<div>\n",
       "<style scoped>\n",
       "    .dataframe tbody tr th:only-of-type {\n",
       "        vertical-align: middle;\n",
       "    }\n",
       "\n",
       "    .dataframe tbody tr th {\n",
       "        vertical-align: top;\n",
       "    }\n",
       "\n",
       "    .dataframe thead th {\n",
       "        text-align: right;\n",
       "    }\n",
       "</style>\n",
       "<table border=\"1\" class=\"dataframe\">\n",
       "  <thead>\n",
       "    <tr style=\"text-align: right;\">\n",
       "      <th></th>\n",
       "      <th>trip_id</th>\n",
       "      <th>VendorID</th>\n",
       "      <th>tpep_pickup_datetime</th>\n",
       "      <th>tpep_dropoff_datetime</th>\n",
       "      <th>passenger_count</th>\n",
       "      <th>trip_distance</th>\n",
       "      <th>pickup_longitude</th>\n",
       "      <th>pickup_latitude</th>\n",
       "      <th>RatecodeID</th>\n",
       "      <th>store_and_fwd_flag</th>\n",
       "      <th>dropoff_longitude</th>\n",
       "      <th>dropoff_latitude</th>\n",
       "      <th>payment_type</th>\n",
       "      <th>fare_amount</th>\n",
       "      <th>extra</th>\n",
       "      <th>mta_tax</th>\n",
       "      <th>tip_amount</th>\n",
       "      <th>tolls_amount</th>\n",
       "      <th>improvement_surcharge</th>\n",
       "      <th>total_amount</th>\n",
       "    </tr>\n",
       "  </thead>\n",
       "  <tbody>\n",
       "    <tr>\n",
       "      <th>0</th>\n",
       "      <td>0</td>\n",
       "      <td>1</td>\n",
       "      <td>2016-03-01</td>\n",
       "      <td>2016-03-01 00:07:55</td>\n",
       "      <td>1</td>\n",
       "      <td>2.50</td>\n",
       "      <td>-73.976746</td>\n",
       "      <td>40.765152</td>\n",
       "      <td>1</td>\n",
       "      <td>N</td>\n",
       "      <td>-74.004265</td>\n",
       "      <td>40.746128</td>\n",
       "      <td>1</td>\n",
       "      <td>9.0</td>\n",
       "      <td>0.5</td>\n",
       "      <td>0.5</td>\n",
       "      <td>2.05</td>\n",
       "      <td>0.00</td>\n",
       "      <td>0.3</td>\n",
       "      <td>12.35</td>\n",
       "    </tr>\n",
       "    <tr>\n",
       "      <th>1</th>\n",
       "      <td>1</td>\n",
       "      <td>1</td>\n",
       "      <td>2016-03-01</td>\n",
       "      <td>2016-03-01 00:11:06</td>\n",
       "      <td>1</td>\n",
       "      <td>2.90</td>\n",
       "      <td>-73.983482</td>\n",
       "      <td>40.767925</td>\n",
       "      <td>1</td>\n",
       "      <td>N</td>\n",
       "      <td>-74.005943</td>\n",
       "      <td>40.733166</td>\n",
       "      <td>1</td>\n",
       "      <td>11.0</td>\n",
       "      <td>0.5</td>\n",
       "      <td>0.5</td>\n",
       "      <td>3.05</td>\n",
       "      <td>0.00</td>\n",
       "      <td>0.3</td>\n",
       "      <td>15.35</td>\n",
       "    </tr>\n",
       "    <tr>\n",
       "      <th>2</th>\n",
       "      <td>2</td>\n",
       "      <td>2</td>\n",
       "      <td>2016-03-01</td>\n",
       "      <td>2016-03-01 00:31:06</td>\n",
       "      <td>2</td>\n",
       "      <td>19.98</td>\n",
       "      <td>-73.782021</td>\n",
       "      <td>40.644810</td>\n",
       "      <td>1</td>\n",
       "      <td>N</td>\n",
       "      <td>-73.974541</td>\n",
       "      <td>40.675770</td>\n",
       "      <td>1</td>\n",
       "      <td>54.5</td>\n",
       "      <td>0.5</td>\n",
       "      <td>0.5</td>\n",
       "      <td>8.00</td>\n",
       "      <td>0.00</td>\n",
       "      <td>0.3</td>\n",
       "      <td>63.80</td>\n",
       "    </tr>\n",
       "    <tr>\n",
       "      <th>3</th>\n",
       "      <td>3</td>\n",
       "      <td>2</td>\n",
       "      <td>2016-03-01</td>\n",
       "      <td>2016-03-01 00:00:00</td>\n",
       "      <td>3</td>\n",
       "      <td>10.78</td>\n",
       "      <td>-73.863419</td>\n",
       "      <td>40.769814</td>\n",
       "      <td>1</td>\n",
       "      <td>N</td>\n",
       "      <td>-73.969650</td>\n",
       "      <td>40.757767</td>\n",
       "      <td>1</td>\n",
       "      <td>31.5</td>\n",
       "      <td>0.0</td>\n",
       "      <td>0.5</td>\n",
       "      <td>3.78</td>\n",
       "      <td>5.54</td>\n",
       "      <td>0.3</td>\n",
       "      <td>41.62</td>\n",
       "    </tr>\n",
       "    <tr>\n",
       "      <th>4</th>\n",
       "      <td>4</td>\n",
       "      <td>2</td>\n",
       "      <td>2016-03-01</td>\n",
       "      <td>2016-03-01 00:00:00</td>\n",
       "      <td>5</td>\n",
       "      <td>30.43</td>\n",
       "      <td>-73.971741</td>\n",
       "      <td>40.792183</td>\n",
       "      <td>3</td>\n",
       "      <td>N</td>\n",
       "      <td>-74.177170</td>\n",
       "      <td>40.695053</td>\n",
       "      <td>1</td>\n",
       "      <td>98.0</td>\n",
       "      <td>0.0</td>\n",
       "      <td>0.0</td>\n",
       "      <td>0.00</td>\n",
       "      <td>15.50</td>\n",
       "      <td>0.3</td>\n",
       "      <td>113.80</td>\n",
       "    </tr>\n",
       "  </tbody>\n",
       "</table>\n",
       "</div>"
      ],
      "text/plain": [
       "   trip_id  VendorID tpep_pickup_datetime tpep_dropoff_datetime  \\\n",
       "0        0         1           2016-03-01   2016-03-01 00:07:55   \n",
       "1        1         1           2016-03-01   2016-03-01 00:11:06   \n",
       "2        2         2           2016-03-01   2016-03-01 00:31:06   \n",
       "3        3         2           2016-03-01   2016-03-01 00:00:00   \n",
       "4        4         2           2016-03-01   2016-03-01 00:00:00   \n",
       "\n",
       "   passenger_count  trip_distance  pickup_longitude  pickup_latitude  \\\n",
       "0                1           2.50        -73.976746        40.765152   \n",
       "1                1           2.90        -73.983482        40.767925   \n",
       "2                2          19.98        -73.782021        40.644810   \n",
       "3                3          10.78        -73.863419        40.769814   \n",
       "4                5          30.43        -73.971741        40.792183   \n",
       "\n",
       "   RatecodeID store_and_fwd_flag  dropoff_longitude  dropoff_latitude  \\\n",
       "0           1                  N         -74.004265         40.746128   \n",
       "1           1                  N         -74.005943         40.733166   \n",
       "2           1                  N         -73.974541         40.675770   \n",
       "3           1                  N         -73.969650         40.757767   \n",
       "4           3                  N         -74.177170         40.695053   \n",
       "\n",
       "   payment_type  fare_amount  extra  mta_tax  tip_amount  tolls_amount  \\\n",
       "0             1          9.0    0.5      0.5        2.05          0.00   \n",
       "1             1         11.0    0.5      0.5        3.05          0.00   \n",
       "2             1         54.5    0.5      0.5        8.00          0.00   \n",
       "3             1         31.5    0.0      0.5        3.78          5.54   \n",
       "4             1         98.0    0.0      0.0        0.00         15.50   \n",
       "\n",
       "   improvement_surcharge  total_amount  \n",
       "0                    0.3         12.35  \n",
       "1                    0.3         15.35  \n",
       "2                    0.3         63.80  \n",
       "3                    0.3         41.62  \n",
       "4                    0.3        113.80  "
      ]
     },
     "execution_count": 67,
     "metadata": {},
     "output_type": "execute_result"
    }
   ],
   "source": [
    "df.head()"
   ]
  },
  {
   "cell_type": "code",
   "execution_count": 68,
   "id": "2e81bf6c",
   "metadata": {},
   "outputs": [],
   "source": [
    "df['trip_duration'] = (df['tpep_dropoff_datetime'] - df['tpep_pickup_datetime']).dt.total_seconds() / 60.0"
   ]
  },
  {
   "cell_type": "code",
   "execution_count": null,
   "id": "3629ec97",
   "metadata": {},
   "outputs": [],
   "source": [
    "date_dim = df[['tpep_pickup_datetime', 'tpep_dropoff_datetime']].reset_index(drop=True)\n",
    "date_dim['pickup_year'] = date_dim['tpep_pickup_datetime'].dt.year  \n",
    "date_dim['pickup_month'] = date_dim['tpep_pickup_datetime'].dt.month\n",
    "date_dim['pickup_weekday'] = date_dim['tpep_pickup_datetime'].dt.weekday\n",
    "date_dim['pickup_day'] = date_dim['tpep_pickup_datetime'].dt.day\n",
    "date_dim['pickup_hour'] = date_dim['tpep_pickup_datetime'].dt.hour\n",
    "date_dim['dropoff_year'] = date_dim['tpep_dropoff_datetime'].dt.year\n",
    "date_dim['dropoff_month'] = date_dim['tpep_dropoff_datetime'].dt.month\n",
    "date_dim['dropoff_weekday'] = date_dim['tpep_dropoff_datetime'].dt.weekday\n",
    "date_dim['dropoff_day'] = date_dim['tpep_dropoff_datetime'].dt.day\n",
    "date_dim['dropoff_hour'] = date_dim['tpep_dropoff_datetime'].dt.hour\n",
    "\n",
    "date_dim['datetime_id'] = date_dim.index + 1\n"
   ]
  },
  {
   "cell_type": "code",
   "execution_count": 70,
   "id": "b80a5fe5",
   "metadata": {},
   "outputs": [
    {
     "data": {
      "application/vnd.microsoft.datawrangler.viewer.v0+json": {
       "columns": [
        {
         "name": "index",
         "rawType": "int64",
         "type": "integer"
        },
        {
         "name": "tpep_pickup_datetime",
         "rawType": "datetime64[ns]",
         "type": "datetime"
        },
        {
         "name": "tpep_dropoff_datetime",
         "rawType": "datetime64[ns]",
         "type": "datetime"
        },
        {
         "name": "pickup_year",
         "rawType": "int32",
         "type": "integer"
        },
        {
         "name": "pickup_month",
         "rawType": "int32",
         "type": "integer"
        },
        {
         "name": "pickup_weekday",
         "rawType": "int32",
         "type": "integer"
        },
        {
         "name": "pickup_day",
         "rawType": "int32",
         "type": "integer"
        },
        {
         "name": "pickup_hour",
         "rawType": "int32",
         "type": "integer"
        },
        {
         "name": "dropoff_year",
         "rawType": "int32",
         "type": "integer"
        },
        {
         "name": "dropoff_month",
         "rawType": "int32",
         "type": "integer"
        },
        {
         "name": "dropoff_weekday",
         "rawType": "int32",
         "type": "integer"
        },
        {
         "name": "dropoff_day",
         "rawType": "int32",
         "type": "integer"
        },
        {
         "name": "dropoff_hour",
         "rawType": "int32",
         "type": "integer"
        },
        {
         "name": "datetime_id",
         "rawType": "int64",
         "type": "integer"
        }
       ],
       "ref": "53873edb-040c-4ba3-aaa0-abd3263710c5",
       "rows": [
        [
         "0",
         "2016-03-01 00:00:00",
         "2016-03-01 00:07:55",
         "2016",
         "3",
         "1",
         "1",
         "0",
         "2016",
         "3",
         "1",
         "1",
         "0",
         "0"
        ],
        [
         "1",
         "2016-03-01 00:00:00",
         "2016-03-01 00:11:06",
         "2016",
         "3",
         "1",
         "1",
         "0",
         "2016",
         "3",
         "1",
         "1",
         "0",
         "1"
        ],
        [
         "2",
         "2016-03-01 00:00:00",
         "2016-03-01 00:31:06",
         "2016",
         "3",
         "1",
         "1",
         "0",
         "2016",
         "3",
         "1",
         "1",
         "0",
         "2"
        ],
        [
         "3",
         "2016-03-01 00:00:00",
         "2016-03-01 00:00:00",
         "2016",
         "3",
         "1",
         "1",
         "0",
         "2016",
         "3",
         "1",
         "1",
         "0",
         "3"
        ],
        [
         "4",
         "2016-03-01 00:00:00",
         "2016-03-01 00:00:00",
         "2016",
         "3",
         "1",
         "1",
         "0",
         "2016",
         "3",
         "1",
         "1",
         "0",
         "4"
        ]
       ],
       "shape": {
        "columns": 13,
        "rows": 5
       }
      },
      "text/html": [
       "<div>\n",
       "<style scoped>\n",
       "    .dataframe tbody tr th:only-of-type {\n",
       "        vertical-align: middle;\n",
       "    }\n",
       "\n",
       "    .dataframe tbody tr th {\n",
       "        vertical-align: top;\n",
       "    }\n",
       "\n",
       "    .dataframe thead th {\n",
       "        text-align: right;\n",
       "    }\n",
       "</style>\n",
       "<table border=\"1\" class=\"dataframe\">\n",
       "  <thead>\n",
       "    <tr style=\"text-align: right;\">\n",
       "      <th></th>\n",
       "      <th>tpep_pickup_datetime</th>\n",
       "      <th>tpep_dropoff_datetime</th>\n",
       "      <th>pickup_year</th>\n",
       "      <th>pickup_month</th>\n",
       "      <th>pickup_weekday</th>\n",
       "      <th>pickup_day</th>\n",
       "      <th>pickup_hour</th>\n",
       "      <th>dropoff_year</th>\n",
       "      <th>dropoff_month</th>\n",
       "      <th>dropoff_weekday</th>\n",
       "      <th>dropoff_day</th>\n",
       "      <th>dropoff_hour</th>\n",
       "      <th>datetime_id</th>\n",
       "    </tr>\n",
       "  </thead>\n",
       "  <tbody>\n",
       "    <tr>\n",
       "      <th>0</th>\n",
       "      <td>2016-03-01</td>\n",
       "      <td>2016-03-01 00:07:55</td>\n",
       "      <td>2016</td>\n",
       "      <td>3</td>\n",
       "      <td>1</td>\n",
       "      <td>1</td>\n",
       "      <td>0</td>\n",
       "      <td>2016</td>\n",
       "      <td>3</td>\n",
       "      <td>1</td>\n",
       "      <td>1</td>\n",
       "      <td>0</td>\n",
       "      <td>0</td>\n",
       "    </tr>\n",
       "    <tr>\n",
       "      <th>1</th>\n",
       "      <td>2016-03-01</td>\n",
       "      <td>2016-03-01 00:11:06</td>\n",
       "      <td>2016</td>\n",
       "      <td>3</td>\n",
       "      <td>1</td>\n",
       "      <td>1</td>\n",
       "      <td>0</td>\n",
       "      <td>2016</td>\n",
       "      <td>3</td>\n",
       "      <td>1</td>\n",
       "      <td>1</td>\n",
       "      <td>0</td>\n",
       "      <td>1</td>\n",
       "    </tr>\n",
       "    <tr>\n",
       "      <th>2</th>\n",
       "      <td>2016-03-01</td>\n",
       "      <td>2016-03-01 00:31:06</td>\n",
       "      <td>2016</td>\n",
       "      <td>3</td>\n",
       "      <td>1</td>\n",
       "      <td>1</td>\n",
       "      <td>0</td>\n",
       "      <td>2016</td>\n",
       "      <td>3</td>\n",
       "      <td>1</td>\n",
       "      <td>1</td>\n",
       "      <td>0</td>\n",
       "      <td>2</td>\n",
       "    </tr>\n",
       "    <tr>\n",
       "      <th>3</th>\n",
       "      <td>2016-03-01</td>\n",
       "      <td>2016-03-01 00:00:00</td>\n",
       "      <td>2016</td>\n",
       "      <td>3</td>\n",
       "      <td>1</td>\n",
       "      <td>1</td>\n",
       "      <td>0</td>\n",
       "      <td>2016</td>\n",
       "      <td>3</td>\n",
       "      <td>1</td>\n",
       "      <td>1</td>\n",
       "      <td>0</td>\n",
       "      <td>3</td>\n",
       "    </tr>\n",
       "    <tr>\n",
       "      <th>4</th>\n",
       "      <td>2016-03-01</td>\n",
       "      <td>2016-03-01 00:00:00</td>\n",
       "      <td>2016</td>\n",
       "      <td>3</td>\n",
       "      <td>1</td>\n",
       "      <td>1</td>\n",
       "      <td>0</td>\n",
       "      <td>2016</td>\n",
       "      <td>3</td>\n",
       "      <td>1</td>\n",
       "      <td>1</td>\n",
       "      <td>0</td>\n",
       "      <td>4</td>\n",
       "    </tr>\n",
       "  </tbody>\n",
       "</table>\n",
       "</div>"
      ],
      "text/plain": [
       "  tpep_pickup_datetime tpep_dropoff_datetime  pickup_year  pickup_month  \\\n",
       "0           2016-03-01   2016-03-01 00:07:55         2016             3   \n",
       "1           2016-03-01   2016-03-01 00:11:06         2016             3   \n",
       "2           2016-03-01   2016-03-01 00:31:06         2016             3   \n",
       "3           2016-03-01   2016-03-01 00:00:00         2016             3   \n",
       "4           2016-03-01   2016-03-01 00:00:00         2016             3   \n",
       "\n",
       "   pickup_weekday  pickup_day  pickup_hour  dropoff_year  dropoff_month  \\\n",
       "0               1           1            0          2016              3   \n",
       "1               1           1            0          2016              3   \n",
       "2               1           1            0          2016              3   \n",
       "3               1           1            0          2016              3   \n",
       "4               1           1            0          2016              3   \n",
       "\n",
       "   dropoff_weekday  dropoff_day  dropoff_hour  datetime_id  \n",
       "0                1            1             0            0  \n",
       "1                1            1             0            1  \n",
       "2                1            1             0            2  \n",
       "3                1            1             0            3  \n",
       "4                1            1             0            4  "
      ]
     },
     "execution_count": 70,
     "metadata": {},
     "output_type": "execute_result"
    }
   ],
   "source": [
    "date_dim.head()"
   ]
  },
  {
   "cell_type": "code",
   "execution_count": 71,
   "id": "750a29bc",
   "metadata": {},
   "outputs": [
    {
     "data": {
      "application/vnd.microsoft.datawrangler.viewer.v0+json": {
       "columns": [
        {
         "name": "index",
         "rawType": "int64",
         "type": "integer"
        },
        {
         "name": "datetime_id",
         "rawType": "int64",
         "type": "integer"
        },
        {
         "name": "tpep_pickup_datetime",
         "rawType": "datetime64[ns]",
         "type": "datetime"
        },
        {
         "name": "pickup_hour",
         "rawType": "int32",
         "type": "integer"
        },
        {
         "name": "pickup_day",
         "rawType": "int32",
         "type": "integer"
        },
        {
         "name": "pickup_month",
         "rawType": "int32",
         "type": "integer"
        },
        {
         "name": "pickup_year",
         "rawType": "int32",
         "type": "integer"
        },
        {
         "name": "pickup_weekday",
         "rawType": "int32",
         "type": "integer"
        },
        {
         "name": "tpep_dropoff_datetime",
         "rawType": "datetime64[ns]",
         "type": "datetime"
        },
        {
         "name": "dropoff_hour",
         "rawType": "int32",
         "type": "integer"
        },
        {
         "name": "dropoff_day",
         "rawType": "int32",
         "type": "integer"
        },
        {
         "name": "dropoff_month",
         "rawType": "int32",
         "type": "integer"
        },
        {
         "name": "dropoff_year",
         "rawType": "int32",
         "type": "integer"
        },
        {
         "name": "dropoff_weekday",
         "rawType": "int32",
         "type": "integer"
        }
       ],
       "ref": "af61bda7-704f-4779-8379-e06051772047",
       "rows": [
        [
         "0",
         "0",
         "2016-03-01 00:00:00",
         "0",
         "1",
         "3",
         "2016",
         "1",
         "2016-03-01 00:07:55",
         "0",
         "1",
         "3",
         "2016",
         "1"
        ],
        [
         "1",
         "1",
         "2016-03-01 00:00:00",
         "0",
         "1",
         "3",
         "2016",
         "1",
         "2016-03-01 00:11:06",
         "0",
         "1",
         "3",
         "2016",
         "1"
        ],
        [
         "2",
         "2",
         "2016-03-01 00:00:00",
         "0",
         "1",
         "3",
         "2016",
         "1",
         "2016-03-01 00:31:06",
         "0",
         "1",
         "3",
         "2016",
         "1"
        ],
        [
         "3",
         "3",
         "2016-03-01 00:00:00",
         "0",
         "1",
         "3",
         "2016",
         "1",
         "2016-03-01 00:00:00",
         "0",
         "1",
         "3",
         "2016",
         "1"
        ],
        [
         "4",
         "4",
         "2016-03-01 00:00:00",
         "0",
         "1",
         "3",
         "2016",
         "1",
         "2016-03-01 00:00:00",
         "0",
         "1",
         "3",
         "2016",
         "1"
        ]
       ],
       "shape": {
        "columns": 13,
        "rows": 5
       }
      },
      "text/html": [
       "<div>\n",
       "<style scoped>\n",
       "    .dataframe tbody tr th:only-of-type {\n",
       "        vertical-align: middle;\n",
       "    }\n",
       "\n",
       "    .dataframe tbody tr th {\n",
       "        vertical-align: top;\n",
       "    }\n",
       "\n",
       "    .dataframe thead th {\n",
       "        text-align: right;\n",
       "    }\n",
       "</style>\n",
       "<table border=\"1\" class=\"dataframe\">\n",
       "  <thead>\n",
       "    <tr style=\"text-align: right;\">\n",
       "      <th></th>\n",
       "      <th>datetime_id</th>\n",
       "      <th>tpep_pickup_datetime</th>\n",
       "      <th>pickup_hour</th>\n",
       "      <th>pickup_day</th>\n",
       "      <th>pickup_month</th>\n",
       "      <th>pickup_year</th>\n",
       "      <th>pickup_weekday</th>\n",
       "      <th>tpep_dropoff_datetime</th>\n",
       "      <th>dropoff_hour</th>\n",
       "      <th>dropoff_day</th>\n",
       "      <th>dropoff_month</th>\n",
       "      <th>dropoff_year</th>\n",
       "      <th>dropoff_weekday</th>\n",
       "    </tr>\n",
       "  </thead>\n",
       "  <tbody>\n",
       "    <tr>\n",
       "      <th>0</th>\n",
       "      <td>0</td>\n",
       "      <td>2016-03-01</td>\n",
       "      <td>0</td>\n",
       "      <td>1</td>\n",
       "      <td>3</td>\n",
       "      <td>2016</td>\n",
       "      <td>1</td>\n",
       "      <td>2016-03-01 00:07:55</td>\n",
       "      <td>0</td>\n",
       "      <td>1</td>\n",
       "      <td>3</td>\n",
       "      <td>2016</td>\n",
       "      <td>1</td>\n",
       "    </tr>\n",
       "    <tr>\n",
       "      <th>1</th>\n",
       "      <td>1</td>\n",
       "      <td>2016-03-01</td>\n",
       "      <td>0</td>\n",
       "      <td>1</td>\n",
       "      <td>3</td>\n",
       "      <td>2016</td>\n",
       "      <td>1</td>\n",
       "      <td>2016-03-01 00:11:06</td>\n",
       "      <td>0</td>\n",
       "      <td>1</td>\n",
       "      <td>3</td>\n",
       "      <td>2016</td>\n",
       "      <td>1</td>\n",
       "    </tr>\n",
       "    <tr>\n",
       "      <th>2</th>\n",
       "      <td>2</td>\n",
       "      <td>2016-03-01</td>\n",
       "      <td>0</td>\n",
       "      <td>1</td>\n",
       "      <td>3</td>\n",
       "      <td>2016</td>\n",
       "      <td>1</td>\n",
       "      <td>2016-03-01 00:31:06</td>\n",
       "      <td>0</td>\n",
       "      <td>1</td>\n",
       "      <td>3</td>\n",
       "      <td>2016</td>\n",
       "      <td>1</td>\n",
       "    </tr>\n",
       "    <tr>\n",
       "      <th>3</th>\n",
       "      <td>3</td>\n",
       "      <td>2016-03-01</td>\n",
       "      <td>0</td>\n",
       "      <td>1</td>\n",
       "      <td>3</td>\n",
       "      <td>2016</td>\n",
       "      <td>1</td>\n",
       "      <td>2016-03-01 00:00:00</td>\n",
       "      <td>0</td>\n",
       "      <td>1</td>\n",
       "      <td>3</td>\n",
       "      <td>2016</td>\n",
       "      <td>1</td>\n",
       "    </tr>\n",
       "    <tr>\n",
       "      <th>4</th>\n",
       "      <td>4</td>\n",
       "      <td>2016-03-01</td>\n",
       "      <td>0</td>\n",
       "      <td>1</td>\n",
       "      <td>3</td>\n",
       "      <td>2016</td>\n",
       "      <td>1</td>\n",
       "      <td>2016-03-01 00:00:00</td>\n",
       "      <td>0</td>\n",
       "      <td>1</td>\n",
       "      <td>3</td>\n",
       "      <td>2016</td>\n",
       "      <td>1</td>\n",
       "    </tr>\n",
       "  </tbody>\n",
       "</table>\n",
       "</div>"
      ],
      "text/plain": [
       "   datetime_id tpep_pickup_datetime  pickup_hour  pickup_day  pickup_month  \\\n",
       "0            0           2016-03-01            0           1             3   \n",
       "1            1           2016-03-01            0           1             3   \n",
       "2            2           2016-03-01            0           1             3   \n",
       "3            3           2016-03-01            0           1             3   \n",
       "4            4           2016-03-01            0           1             3   \n",
       "\n",
       "   pickup_year  pickup_weekday tpep_dropoff_datetime  dropoff_hour  \\\n",
       "0         2016               1   2016-03-01 00:07:55             0   \n",
       "1         2016               1   2016-03-01 00:11:06             0   \n",
       "2         2016               1   2016-03-01 00:31:06             0   \n",
       "3         2016               1   2016-03-01 00:00:00             0   \n",
       "4         2016               1   2016-03-01 00:00:00             0   \n",
       "\n",
       "   dropoff_day  dropoff_month  dropoff_year  dropoff_weekday  \n",
       "0            1              3          2016                1  \n",
       "1            1              3          2016                1  \n",
       "2            1              3          2016                1  \n",
       "3            1              3          2016                1  \n",
       "4            1              3          2016                1  "
      ]
     },
     "execution_count": 71,
     "metadata": {},
     "output_type": "execute_result"
    }
   ],
   "source": [
    "date_dim = date_dim[['datetime_id', 'tpep_pickup_datetime', 'pickup_hour', 'pickup_day', 'pickup_month', 'pickup_year', 'pickup_weekday',\n",
    "                             'tpep_dropoff_datetime', 'dropoff_hour', 'dropoff_day', 'dropoff_month', 'dropoff_year', 'dropoff_weekday']]\n",
    "#\n",
    "date_dim.head()"
   ]
  },
  {
   "cell_type": "code",
   "execution_count": 72,
   "id": "cd8ff785",
   "metadata": {},
   "outputs": [
    {
     "data": {
      "application/vnd.microsoft.datawrangler.viewer.v0+json": {
       "columns": [
        {
         "name": "index",
         "rawType": "int64",
         "type": "integer"
        },
        {
         "name": "trip_id",
         "rawType": "int64",
         "type": "integer"
        },
        {
         "name": "VendorID",
         "rawType": "int64",
         "type": "integer"
        },
        {
         "name": "tpep_pickup_datetime",
         "rawType": "datetime64[ns]",
         "type": "datetime"
        },
        {
         "name": "tpep_dropoff_datetime",
         "rawType": "datetime64[ns]",
         "type": "datetime"
        },
        {
         "name": "passenger_count",
         "rawType": "int64",
         "type": "integer"
        },
        {
         "name": "trip_distance",
         "rawType": "float64",
         "type": "float"
        },
        {
         "name": "pickup_longitude",
         "rawType": "float64",
         "type": "float"
        },
        {
         "name": "pickup_latitude",
         "rawType": "float64",
         "type": "float"
        },
        {
         "name": "RatecodeID",
         "rawType": "int64",
         "type": "integer"
        },
        {
         "name": "store_and_fwd_flag",
         "rawType": "object",
         "type": "string"
        },
        {
         "name": "dropoff_longitude",
         "rawType": "float64",
         "type": "float"
        },
        {
         "name": "dropoff_latitude",
         "rawType": "float64",
         "type": "float"
        },
        {
         "name": "payment_type",
         "rawType": "int64",
         "type": "integer"
        },
        {
         "name": "fare_amount",
         "rawType": "float64",
         "type": "float"
        },
        {
         "name": "extra",
         "rawType": "float64",
         "type": "float"
        },
        {
         "name": "mta_tax",
         "rawType": "float64",
         "type": "float"
        },
        {
         "name": "tip_amount",
         "rawType": "float64",
         "type": "float"
        },
        {
         "name": "tolls_amount",
         "rawType": "float64",
         "type": "float"
        },
        {
         "name": "improvement_surcharge",
         "rawType": "float64",
         "type": "float"
        },
        {
         "name": "total_amount",
         "rawType": "float64",
         "type": "float"
        },
        {
         "name": "trip_duration",
         "rawType": "float64",
         "type": "float"
        }
       ],
       "ref": "8b63da99-6f66-4ed1-9d60-085d5a77a55b",
       "rows": [
        [
         "0",
         "0",
         "1",
         "2016-03-01 00:00:00",
         "2016-03-01 00:07:55",
         "1",
         "2.5",
         "-73.97674560546875",
         "40.765151977539055",
         "1",
         "N",
         "-74.00426483154298",
         "40.74612808227539",
         "1",
         "9.0",
         "0.5",
         "0.5",
         "2.05",
         "0.0",
         "0.3",
         "12.35",
         "7.916666666666667"
        ],
        [
         "1",
         "1",
         "1",
         "2016-03-01 00:00:00",
         "2016-03-01 00:11:06",
         "1",
         "2.9",
         "-73.98348236083984",
         "40.767925262451165",
         "1",
         "N",
         "-74.00594329833984",
         "40.7331657409668",
         "1",
         "11.0",
         "0.5",
         "0.5",
         "3.05",
         "0.0",
         "0.3",
         "15.35",
         "11.1"
        ],
        [
         "2",
         "2",
         "2",
         "2016-03-01 00:00:00",
         "2016-03-01 00:31:06",
         "2",
         "19.98",
         "-73.78202056884764",
         "40.64480972290039",
         "1",
         "N",
         "-73.97454071044923",
         "40.6757698059082",
         "1",
         "54.5",
         "0.5",
         "0.5",
         "8.0",
         "0.0",
         "0.3",
         "63.8",
         "31.1"
        ]
       ],
       "shape": {
        "columns": 21,
        "rows": 3
       }
      },
      "text/html": [
       "<div>\n",
       "<style scoped>\n",
       "    .dataframe tbody tr th:only-of-type {\n",
       "        vertical-align: middle;\n",
       "    }\n",
       "\n",
       "    .dataframe tbody tr th {\n",
       "        vertical-align: top;\n",
       "    }\n",
       "\n",
       "    .dataframe thead th {\n",
       "        text-align: right;\n",
       "    }\n",
       "</style>\n",
       "<table border=\"1\" class=\"dataframe\">\n",
       "  <thead>\n",
       "    <tr style=\"text-align: right;\">\n",
       "      <th></th>\n",
       "      <th>trip_id</th>\n",
       "      <th>VendorID</th>\n",
       "      <th>tpep_pickup_datetime</th>\n",
       "      <th>tpep_dropoff_datetime</th>\n",
       "      <th>passenger_count</th>\n",
       "      <th>trip_distance</th>\n",
       "      <th>pickup_longitude</th>\n",
       "      <th>pickup_latitude</th>\n",
       "      <th>RatecodeID</th>\n",
       "      <th>store_and_fwd_flag</th>\n",
       "      <th>...</th>\n",
       "      <th>dropoff_latitude</th>\n",
       "      <th>payment_type</th>\n",
       "      <th>fare_amount</th>\n",
       "      <th>extra</th>\n",
       "      <th>mta_tax</th>\n",
       "      <th>tip_amount</th>\n",
       "      <th>tolls_amount</th>\n",
       "      <th>improvement_surcharge</th>\n",
       "      <th>total_amount</th>\n",
       "      <th>trip_duration</th>\n",
       "    </tr>\n",
       "  </thead>\n",
       "  <tbody>\n",
       "    <tr>\n",
       "      <th>0</th>\n",
       "      <td>0</td>\n",
       "      <td>1</td>\n",
       "      <td>2016-03-01</td>\n",
       "      <td>2016-03-01 00:07:55</td>\n",
       "      <td>1</td>\n",
       "      <td>2.50</td>\n",
       "      <td>-73.976746</td>\n",
       "      <td>40.765152</td>\n",
       "      <td>1</td>\n",
       "      <td>N</td>\n",
       "      <td>...</td>\n",
       "      <td>40.746128</td>\n",
       "      <td>1</td>\n",
       "      <td>9.0</td>\n",
       "      <td>0.5</td>\n",
       "      <td>0.5</td>\n",
       "      <td>2.05</td>\n",
       "      <td>0.0</td>\n",
       "      <td>0.3</td>\n",
       "      <td>12.35</td>\n",
       "      <td>7.916667</td>\n",
       "    </tr>\n",
       "    <tr>\n",
       "      <th>1</th>\n",
       "      <td>1</td>\n",
       "      <td>1</td>\n",
       "      <td>2016-03-01</td>\n",
       "      <td>2016-03-01 00:11:06</td>\n",
       "      <td>1</td>\n",
       "      <td>2.90</td>\n",
       "      <td>-73.983482</td>\n",
       "      <td>40.767925</td>\n",
       "      <td>1</td>\n",
       "      <td>N</td>\n",
       "      <td>...</td>\n",
       "      <td>40.733166</td>\n",
       "      <td>1</td>\n",
       "      <td>11.0</td>\n",
       "      <td>0.5</td>\n",
       "      <td>0.5</td>\n",
       "      <td>3.05</td>\n",
       "      <td>0.0</td>\n",
       "      <td>0.3</td>\n",
       "      <td>15.35</td>\n",
       "      <td>11.100000</td>\n",
       "    </tr>\n",
       "    <tr>\n",
       "      <th>2</th>\n",
       "      <td>2</td>\n",
       "      <td>2</td>\n",
       "      <td>2016-03-01</td>\n",
       "      <td>2016-03-01 00:31:06</td>\n",
       "      <td>2</td>\n",
       "      <td>19.98</td>\n",
       "      <td>-73.782021</td>\n",
       "      <td>40.644810</td>\n",
       "      <td>1</td>\n",
       "      <td>N</td>\n",
       "      <td>...</td>\n",
       "      <td>40.675770</td>\n",
       "      <td>1</td>\n",
       "      <td>54.5</td>\n",
       "      <td>0.5</td>\n",
       "      <td>0.5</td>\n",
       "      <td>8.00</td>\n",
       "      <td>0.0</td>\n",
       "      <td>0.3</td>\n",
       "      <td>63.80</td>\n",
       "      <td>31.100000</td>\n",
       "    </tr>\n",
       "  </tbody>\n",
       "</table>\n",
       "<p>3 rows × 21 columns</p>\n",
       "</div>"
      ],
      "text/plain": [
       "   trip_id  VendorID tpep_pickup_datetime tpep_dropoff_datetime  \\\n",
       "0        0         1           2016-03-01   2016-03-01 00:07:55   \n",
       "1        1         1           2016-03-01   2016-03-01 00:11:06   \n",
       "2        2         2           2016-03-01   2016-03-01 00:31:06   \n",
       "\n",
       "   passenger_count  trip_distance  pickup_longitude  pickup_latitude  \\\n",
       "0                1           2.50        -73.976746        40.765152   \n",
       "1                1           2.90        -73.983482        40.767925   \n",
       "2                2          19.98        -73.782021        40.644810   \n",
       "\n",
       "   RatecodeID store_and_fwd_flag  ...  dropoff_latitude  payment_type  \\\n",
       "0           1                  N  ...         40.746128             1   \n",
       "1           1                  N  ...         40.733166             1   \n",
       "2           1                  N  ...         40.675770             1   \n",
       "\n",
       "   fare_amount  extra  mta_tax  tip_amount  tolls_amount  \\\n",
       "0          9.0    0.5      0.5        2.05           0.0   \n",
       "1         11.0    0.5      0.5        3.05           0.0   \n",
       "2         54.5    0.5      0.5        8.00           0.0   \n",
       "\n",
       "   improvement_surcharge  total_amount  trip_duration  \n",
       "0                    0.3         12.35       7.916667  \n",
       "1                    0.3         15.35      11.100000  \n",
       "2                    0.3         63.80      31.100000  \n",
       "\n",
       "[3 rows x 21 columns]"
      ]
     },
     "execution_count": 72,
     "metadata": {},
     "output_type": "execute_result"
    }
   ],
   "source": [
    "df.head(3)"
   ]
  },
  {
   "cell_type": "code",
   "execution_count": 73,
   "id": "b92b7fa6",
   "metadata": {},
   "outputs": [],
   "source": [
    "vendor_dim = df[['VendorID']].drop_duplicates().reset_index(drop=True)\n",
    "vendor_dim['vendor_id'] = vendor_dim.index\n",
    "vendor_dim['vendor_name'] = np.where(vendor_dim['VendorID'] == 1, 'Creative Mobile Technologies, LLC', 'VeriFone Inc.')"
   ]
  },
  {
   "cell_type": "code",
   "execution_count": 74,
   "id": "1c1bcbf0",
   "metadata": {},
   "outputs": [
    {
     "data": {
      "application/vnd.microsoft.datawrangler.viewer.v0+json": {
       "columns": [
        {
         "name": "index",
         "rawType": "int64",
         "type": "integer"
        },
        {
         "name": "VendorID",
         "rawType": "int64",
         "type": "integer"
        },
        {
         "name": "vendor_id",
         "rawType": "int64",
         "type": "integer"
        },
        {
         "name": "vendor_name",
         "rawType": "object",
         "type": "string"
        }
       ],
       "ref": "32279068-d8a2-45fe-abc5-528086c91c47",
       "rows": [
        [
         "0",
         "1",
         "0",
         "Creative Mobile Technologies, LLC"
        ],
        [
         "1",
         "2",
         "1",
         "VeriFone Inc."
        ]
       ],
       "shape": {
        "columns": 3,
        "rows": 2
       }
      },
      "text/html": [
       "<div>\n",
       "<style scoped>\n",
       "    .dataframe tbody tr th:only-of-type {\n",
       "        vertical-align: middle;\n",
       "    }\n",
       "\n",
       "    .dataframe tbody tr th {\n",
       "        vertical-align: top;\n",
       "    }\n",
       "\n",
       "    .dataframe thead th {\n",
       "        text-align: right;\n",
       "    }\n",
       "</style>\n",
       "<table border=\"1\" class=\"dataframe\">\n",
       "  <thead>\n",
       "    <tr style=\"text-align: right;\">\n",
       "      <th></th>\n",
       "      <th>VendorID</th>\n",
       "      <th>vendor_id</th>\n",
       "      <th>vendor_name</th>\n",
       "    </tr>\n",
       "  </thead>\n",
       "  <tbody>\n",
       "    <tr>\n",
       "      <th>0</th>\n",
       "      <td>1</td>\n",
       "      <td>0</td>\n",
       "      <td>Creative Mobile Technologies, LLC</td>\n",
       "    </tr>\n",
       "    <tr>\n",
       "      <th>1</th>\n",
       "      <td>2</td>\n",
       "      <td>1</td>\n",
       "      <td>VeriFone Inc.</td>\n",
       "    </tr>\n",
       "  </tbody>\n",
       "</table>\n",
       "</div>"
      ],
      "text/plain": [
       "   VendorID  vendor_id                        vendor_name\n",
       "0         1          0  Creative Mobile Technologies, LLC\n",
       "1         2          1                      VeriFone Inc."
      ]
     },
     "execution_count": 74,
     "metadata": {},
     "output_type": "execute_result"
    }
   ],
   "source": [
    "vendor_dim.head()"
   ]
  },
  {
   "cell_type": "code",
   "execution_count": null,
   "id": "2de5015b",
   "metadata": {},
   "outputs": [],
   "source": [
    "vendor_dim = vendor_dim[['VendorID', 'vendor_name']]"
   ]
  },
  {
   "cell_type": "code",
   "execution_count": 76,
   "id": "ac26613b",
   "metadata": {},
   "outputs": [
    {
     "data": {
      "application/vnd.microsoft.datawrangler.viewer.v0+json": {
       "columns": [
        {
         "name": "index",
         "rawType": "int64",
         "type": "integer"
        },
        {
         "name": "vendor_id",
         "rawType": "int64",
         "type": "integer"
        },
        {
         "name": "VendorID",
         "rawType": "int64",
         "type": "integer"
        },
        {
         "name": "vendor_name",
         "rawType": "object",
         "type": "string"
        }
       ],
       "ref": "2fc98956-02e1-4133-97e7-ec48fb79514a",
       "rows": [
        [
         "0",
         "0",
         "1",
         "Creative Mobile Technologies, LLC"
        ],
        [
         "1",
         "1",
         "2",
         "VeriFone Inc."
        ]
       ],
       "shape": {
        "columns": 3,
        "rows": 2
       }
      },
      "text/html": [
       "<div>\n",
       "<style scoped>\n",
       "    .dataframe tbody tr th:only-of-type {\n",
       "        vertical-align: middle;\n",
       "    }\n",
       "\n",
       "    .dataframe tbody tr th {\n",
       "        vertical-align: top;\n",
       "    }\n",
       "\n",
       "    .dataframe thead th {\n",
       "        text-align: right;\n",
       "    }\n",
       "</style>\n",
       "<table border=\"1\" class=\"dataframe\">\n",
       "  <thead>\n",
       "    <tr style=\"text-align: right;\">\n",
       "      <th></th>\n",
       "      <th>vendor_id</th>\n",
       "      <th>VendorID</th>\n",
       "      <th>vendor_name</th>\n",
       "    </tr>\n",
       "  </thead>\n",
       "  <tbody>\n",
       "    <tr>\n",
       "      <th>0</th>\n",
       "      <td>0</td>\n",
       "      <td>1</td>\n",
       "      <td>Creative Mobile Technologies, LLC</td>\n",
       "    </tr>\n",
       "    <tr>\n",
       "      <th>1</th>\n",
       "      <td>1</td>\n",
       "      <td>2</td>\n",
       "      <td>VeriFone Inc.</td>\n",
       "    </tr>\n",
       "  </tbody>\n",
       "</table>\n",
       "</div>"
      ],
      "text/plain": [
       "   vendor_id  VendorID                        vendor_name\n",
       "0          0         1  Creative Mobile Technologies, LLC\n",
       "1          1         2                      VeriFone Inc."
      ]
     },
     "execution_count": 76,
     "metadata": {},
     "output_type": "execute_result"
    }
   ],
   "source": [
    "vendor_dim.head(3)"
   ]
  },
  {
   "cell_type": "code",
   "execution_count": 77,
   "id": "982357c0",
   "metadata": {},
   "outputs": [
    {
     "data": {
      "application/vnd.microsoft.datawrangler.viewer.v0+json": {
       "columns": [
        {
         "name": "index",
         "rawType": "int64",
         "type": "integer"
        },
        {
         "name": "vendor_id",
         "rawType": "int64",
         "type": "integer"
        },
        {
         "name": "VendorID",
         "rawType": "int64",
         "type": "integer"
        },
        {
         "name": "vendor_name",
         "rawType": "object",
         "type": "string"
        }
       ],
       "ref": "9ab5d65b-2172-45e1-add8-c1ee6d497112",
       "rows": [
        [
         "0",
         "0",
         "1",
         "Creative Mobile Technologies, LLC"
        ],
        [
         "1",
         "1",
         "2",
         "VeriFone Inc."
        ]
       ],
       "shape": {
        "columns": 3,
        "rows": 2
       }
      },
      "text/html": [
       "<div>\n",
       "<style scoped>\n",
       "    .dataframe tbody tr th:only-of-type {\n",
       "        vertical-align: middle;\n",
       "    }\n",
       "\n",
       "    .dataframe tbody tr th {\n",
       "        vertical-align: top;\n",
       "    }\n",
       "\n",
       "    .dataframe thead th {\n",
       "        text-align: right;\n",
       "    }\n",
       "</style>\n",
       "<table border=\"1\" class=\"dataframe\">\n",
       "  <thead>\n",
       "    <tr style=\"text-align: right;\">\n",
       "      <th></th>\n",
       "      <th>vendor_id</th>\n",
       "      <th>VendorID</th>\n",
       "      <th>vendor_name</th>\n",
       "    </tr>\n",
       "  </thead>\n",
       "  <tbody>\n",
       "    <tr>\n",
       "      <th>0</th>\n",
       "      <td>0</td>\n",
       "      <td>1</td>\n",
       "      <td>Creative Mobile Technologies, LLC</td>\n",
       "    </tr>\n",
       "    <tr>\n",
       "      <th>1</th>\n",
       "      <td>1</td>\n",
       "      <td>2</td>\n",
       "      <td>VeriFone Inc.</td>\n",
       "    </tr>\n",
       "  </tbody>\n",
       "</table>\n",
       "</div>"
      ],
      "text/plain": [
       "   vendor_id  VendorID                        vendor_name\n",
       "0          0         1  Creative Mobile Technologies, LLC\n",
       "1          1         2                      VeriFone Inc."
      ]
     },
     "execution_count": 77,
     "metadata": {},
     "output_type": "execute_result"
    }
   ],
   "source": [
    "vendor_dim"
   ]
  },
  {
   "cell_type": "code",
   "execution_count": 78,
   "id": "cd197e56",
   "metadata": {},
   "outputs": [],
   "source": [
    "passenger_count_dim = df[['passenger_count']].reset_index(drop=True)\n",
    "passenger_count_dim['passenger_count_id'] = passenger_count_dim.index\n",
    "passenger_count_dim = passenger_count_dim[['passenger_count_id','passenger_count']]"
   ]
  },
  {
   "cell_type": "code",
   "execution_count": null,
   "id": "ebc71e3b",
   "metadata": {},
   "outputs": [],
   "source": [
    "rate_code_type = {\n",
    "    1:\"Standard rate\",\n",
    "    2:\"JFK\",\n",
    "    3:\"Newark\",\n",
    "    4:\"Nassau or Westchester\",\n",
    "    5:\"Negotiated fare\",\n",
    "    6:\"Group ride\"\n",
    "}\n",
    "\n",
    "rate_code_dim = df[['RatecodeID']].drop_duplicates().reset_index(drop=True)\n",
    "rate_code_dim['rate_code_name'] = rate_code_dim['RatecodeID'].map(rate_code_type)\n",
    "rate_code_dim = rate_code_dim[['RatecodeID','rate_code_name']]"
   ]
  },
  {
   "cell_type": "code",
   "execution_count": 85,
   "id": "70564c8c",
   "metadata": {},
   "outputs": [
    {
     "data": {
      "application/vnd.microsoft.datawrangler.viewer.v0+json": {
       "columns": [
        {
         "name": "index",
         "rawType": "int64",
         "type": "integer"
        },
        {
         "name": "rate_code_id",
         "rawType": "int64",
         "type": "integer"
        },
        {
         "name": "RatecodeID",
         "rawType": "int64",
         "type": "integer"
        },
        {
         "name": "rate_code_name",
         "rawType": "object",
         "type": "string"
        }
       ],
       "ref": "49e8fc4a-32fa-4350-99e7-3e2e8f4ab730",
       "rows": [
        [
         "0",
         "0",
         "1",
         "Standard rate"
        ],
        [
         "1",
         "1",
         "3",
         "Newark"
        ],
        [
         "2",
         "2",
         "2",
         "JFK"
        ],
        [
         "3",
         "3",
         "5",
         "Negotiated fare"
        ],
        [
         "4",
         "4",
         "4",
         "Nassau or Westchester"
        ],
        [
         "5",
         "5",
         "6",
         "Group ride"
        ]
       ],
       "shape": {
        "columns": 3,
        "rows": 6
       }
      },
      "text/html": [
       "<div>\n",
       "<style scoped>\n",
       "    .dataframe tbody tr th:only-of-type {\n",
       "        vertical-align: middle;\n",
       "    }\n",
       "\n",
       "    .dataframe tbody tr th {\n",
       "        vertical-align: top;\n",
       "    }\n",
       "\n",
       "    .dataframe thead th {\n",
       "        text-align: right;\n",
       "    }\n",
       "</style>\n",
       "<table border=\"1\" class=\"dataframe\">\n",
       "  <thead>\n",
       "    <tr style=\"text-align: right;\">\n",
       "      <th></th>\n",
       "      <th>rate_code_id</th>\n",
       "      <th>RatecodeID</th>\n",
       "      <th>rate_code_name</th>\n",
       "    </tr>\n",
       "  </thead>\n",
       "  <tbody>\n",
       "    <tr>\n",
       "      <th>0</th>\n",
       "      <td>0</td>\n",
       "      <td>1</td>\n",
       "      <td>Standard rate</td>\n",
       "    </tr>\n",
       "    <tr>\n",
       "      <th>1</th>\n",
       "      <td>1</td>\n",
       "      <td>3</td>\n",
       "      <td>Newark</td>\n",
       "    </tr>\n",
       "    <tr>\n",
       "      <th>2</th>\n",
       "      <td>2</td>\n",
       "      <td>2</td>\n",
       "      <td>JFK</td>\n",
       "    </tr>\n",
       "    <tr>\n",
       "      <th>3</th>\n",
       "      <td>3</td>\n",
       "      <td>5</td>\n",
       "      <td>Negotiated fare</td>\n",
       "    </tr>\n",
       "    <tr>\n",
       "      <th>4</th>\n",
       "      <td>4</td>\n",
       "      <td>4</td>\n",
       "      <td>Nassau or Westchester</td>\n",
       "    </tr>\n",
       "    <tr>\n",
       "      <th>5</th>\n",
       "      <td>5</td>\n",
       "      <td>6</td>\n",
       "      <td>Group ride</td>\n",
       "    </tr>\n",
       "  </tbody>\n",
       "</table>\n",
       "</div>"
      ],
      "text/plain": [
       "   rate_code_id  RatecodeID         rate_code_name\n",
       "0             0           1          Standard rate\n",
       "1             1           3                 Newark\n",
       "2             2           2                    JFK\n",
       "3             3           5        Negotiated fare\n",
       "4             4           4  Nassau or Westchester\n",
       "5             5           6             Group ride"
      ]
     },
     "execution_count": 85,
     "metadata": {},
     "output_type": "execute_result"
    }
   ],
   "source": [
    "rate_code_dim.head(10)"
   ]
  },
  {
   "cell_type": "code",
   "execution_count": null,
   "id": "1613a269",
   "metadata": {},
   "outputs": [],
   "source": [
    "pickup_location_dim = df[['pickup_longitude', 'pickup_latitude']].reset_index(drop=True)\n",
    "pickup_location_dim['pickup_location_id'] = pickup_location_dim.index\n",
    "pickup_location_dim = pickup_location_dim[['pickup_location_id','pickup_latitude','pickup_longitude']] \n",
    "\n",
    "\n",
    "dropoff_location_dim = df[['dropoff_longitude', 'dropoff_latitude']].reset_index(drop=True)\n",
    "dropoff_location_dim['dropoff_location_id'] = dropoff_location_dim.index\n",
    "dropoff_location_dim = dropoff_location_dim[['dropoff_location_id','dropoff_latitude','dropoff_longitude']]"
   ]
  },
  {
   "cell_type": "code",
   "execution_count": 1,
   "id": "e4309864",
   "metadata": {},
   "outputs": [
    {
     "ename": "NameError",
     "evalue": "name 'df' is not defined",
     "output_type": "error",
     "traceback": [
      "\u001b[1;31m---------------------------------------------------------------------------\u001b[0m",
      "\u001b[1;31mNameError\u001b[0m                                 Traceback (most recent call last)",
      "Cell \u001b[1;32mIn[1], line 1\u001b[0m\n\u001b[1;32m----> 1\u001b[0m \u001b[43mdf\u001b[49m[\u001b[38;5;124m'\u001b[39m\u001b[38;5;124mpayment_type\u001b[39m\u001b[38;5;124m'\u001b[39m]\u001b[38;5;241m.\u001b[39munique()\n",
      "\u001b[1;31mNameError\u001b[0m: name 'df' is not defined"
     ]
    }
   ],
   "source": [
    "df['payment_type'].unique()"
   ]
  },
  {
   "cell_type": "code",
   "execution_count": null,
   "id": "bc7ffbc9",
   "metadata": {},
   "outputs": [],
   "source": [
    "payment_type_name = {\n",
    "    1:\"Credit card\",\n",
    "    2:\"Cash\",\n",
    "    3:\"No charge\",\n",
    "    4:\"Dispute\",\n",
    "    5:\"Unknown\",\n",
    "    6:\"Voided trip\"\n",
    "}\n",
    "payment_type_dim = df[['payment_type']].drop_duplicates().reset_index(drop=True)\n",
    "payment_type_dim['payment_type_name'] = payment_type_dim['payment_type'].map(payment_type_name)\n",
    "payment_type_dim = payment_type_dim[['payment_type','payment_type_name']]"
   ]
  },
  {
   "cell_type": "code",
   "execution_count": 87,
   "id": "6f6eecbb",
   "metadata": {},
   "outputs": [
    {
     "data": {
      "application/vnd.microsoft.datawrangler.viewer.v0+json": {
       "columns": [
        {
         "name": "index",
         "rawType": "int64",
         "type": "integer"
        },
        {
         "name": "payment_type_id",
         "rawType": "int64",
         "type": "integer"
        },
        {
         "name": "payment_type",
         "rawType": "int64",
         "type": "integer"
        },
        {
         "name": "payment_type_name",
         "rawType": "object",
         "type": "string"
        }
       ],
       "ref": "a81c8a50-d192-4ff9-a025-ef25a6d074cc",
       "rows": [
        [
         "0",
         "0",
         "1",
         "Credit card"
        ],
        [
         "1",
         "1",
         "2",
         "Cash"
        ],
        [
         "2",
         "2",
         "3",
         "No charge"
        ],
        [
         "3",
         "3",
         "4",
         "Dispute"
        ]
       ],
       "shape": {
        "columns": 3,
        "rows": 4
       }
      },
      "text/html": [
       "<div>\n",
       "<style scoped>\n",
       "    .dataframe tbody tr th:only-of-type {\n",
       "        vertical-align: middle;\n",
       "    }\n",
       "\n",
       "    .dataframe tbody tr th {\n",
       "        vertical-align: top;\n",
       "    }\n",
       "\n",
       "    .dataframe thead th {\n",
       "        text-align: right;\n",
       "    }\n",
       "</style>\n",
       "<table border=\"1\" class=\"dataframe\">\n",
       "  <thead>\n",
       "    <tr style=\"text-align: right;\">\n",
       "      <th></th>\n",
       "      <th>payment_type_id</th>\n",
       "      <th>payment_type</th>\n",
       "      <th>payment_type_name</th>\n",
       "    </tr>\n",
       "  </thead>\n",
       "  <tbody>\n",
       "    <tr>\n",
       "      <th>0</th>\n",
       "      <td>0</td>\n",
       "      <td>1</td>\n",
       "      <td>Credit card</td>\n",
       "    </tr>\n",
       "    <tr>\n",
       "      <th>1</th>\n",
       "      <td>1</td>\n",
       "      <td>2</td>\n",
       "      <td>Cash</td>\n",
       "    </tr>\n",
       "    <tr>\n",
       "      <th>2</th>\n",
       "      <td>2</td>\n",
       "      <td>3</td>\n",
       "      <td>No charge</td>\n",
       "    </tr>\n",
       "    <tr>\n",
       "      <th>3</th>\n",
       "      <td>3</td>\n",
       "      <td>4</td>\n",
       "      <td>Dispute</td>\n",
       "    </tr>\n",
       "  </tbody>\n",
       "</table>\n",
       "</div>"
      ],
      "text/plain": [
       "   payment_type_id  payment_type payment_type_name\n",
       "0                0             1       Credit card\n",
       "1                1             2              Cash\n",
       "2                2             3         No charge\n",
       "3                3             4           Dispute"
      ]
     },
     "execution_count": 87,
     "metadata": {},
     "output_type": "execute_result"
    }
   ],
   "source": [
    "payment_type_dim.head(10)"
   ]
  },
  {
   "cell_type": "code",
   "execution_count": null,
   "id": "3723a31e",
   "metadata": {},
   "outputs": [],
   "source": [
    "# Merge datetime_id\n",
    "df = df.merge(date_dim[['datetime_id', 'pickup_datetime_str', 'dropoff_datetime_str']],\n",
    "              on=['pickup_datetime_str', 'dropoff_datetime_str'], how='left')\n",
    "\n",
    "# Merge vendor_id\n",
    "df = df.merge(vendor_dim[['VendorID', 'vendor_id']], on='VendorID', how='left')\n",
    "\n",
    "# Merge passenger_count_id\n",
    "df = df.merge(passenger_count_dim, on='passenger_count', how='left')\n",
    "\n",
    "# Merge rate_code_id\n",
    "df = df.merge(rate_code_dim[['RatecodeID', 'rate_code_id']], on='RatecodeID', how='left')\n",
    "\n",
    "# Merge pickup_location_id\n",
    "df = df.merge(pickup_location_dim[['pickup_latitude', 'pickup_longitude', 'pickup_location_id']],\n",
    "              on=['pickup_latitude', 'pickup_longitude'], how='left')\n",
    "\n",
    "# Merge dropoff_location_id\n",
    "df = df.merge(dropoff_location_dim[['dropoff_latitude', 'dropoff_longitude', 'dropoff_location_id']],\n",
    "              on=['dropoff_latitude', 'dropoff_longitude'], how='left')\n",
    "\n",
    "# Merge payment_type_id\n",
    "df = df.merge(payment_type_dim[['payment_type', 'payment_type_id']], on='payment_type', how='left')\n",
    "\n",
    "# ================================\n",
    "# 📦 Final Fact Table\n",
    "# ================================\n",
    "fact_trips = df[[\n",
    "    'trip_id',\n",
    "    'datetime_id',\n",
    "    'vendor_id',\n",
    "    'passenger_count_id',\n",
    "    'rate_code_id',\n",
    "    'pickup_location_id',\n",
    "    'dropoff_location_id',\n",
    "    'payment_type_id',\n",
    "    'store_and_fwd_flag',\n",
    "    'trip_distance',\n",
    "    'fare_amount',\n",
    "    'extra',\n",
    "    'mta_tax',\n",
    "    'tip_amount',\n",
    "    'tolls_amount',\n",
    "    'improvement_surcharge',\n",
    "    'total_amount',\n",
    "    'trip_duration'\n",
    "]]"
   ]
  }
 ],
 "metadata": {
  "kernelspec": {
   "display_name": "myenv",
   "language": "python",
   "name": "python3"
  },
  "language_info": {
   "codemirror_mode": {
    "name": "ipython",
    "version": 3
   },
   "file_extension": ".py",
   "mimetype": "text/x-python",
   "name": "python",
   "nbconvert_exporter": "python",
   "pygments_lexer": "ipython3",
   "version": "3.12.8"
  }
 },
 "nbformat": 4,
 "nbformat_minor": 5
}
